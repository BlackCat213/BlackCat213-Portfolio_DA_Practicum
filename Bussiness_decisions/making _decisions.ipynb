{
 "cells": [
  {
   "cell_type": "markdown",
   "metadata": {},
   "source": [
    "# Принятие решений в бизнесе."
   ]
  },
  {
   "cell_type": "markdown",
   "metadata": {},
   "source": [
    "Новый этап  развития интернет-магазина предполагает повышение ключевых показателей эффективности. В данном проекте, аналитическим и маркетинговым отделом были разработаны гипотезы, улучшения KPI(увеличение выручки):\n",
    "\n",
    "- добавить два новых канала привлечения трафика, что позволит привлекать на 30% больше пользователей;\n",
    "- запуск собственной службы доставки, что сократит срок доставки заказов;\n",
    "- добавить блоки рекомендаций товаров на сайт интернет магазина, чтобы повысить конверсию и средний чек заказа;\n",
    "- изменить структуру категорий, что увеличит конверсию, т.к. пользователи быстрее найдут нужный товар;\n",
    "- изменить цвет фона главной страницы, чтобы увеличить вовлеченность пользователей;\n",
    "- добавить страницу отзывов клиентов о магазине, что позволит увеличить количество заказов;\n",
    "- показать на главной странице баннеры с актуальными акциями и распродажами, чтобы увеличить конверсию;\n",
    "- добавить форму подписки на все основные страницы, чтобы собрать базу клиентов для email-рассылок;\n",
    "- запуск акции, дающую скидку на товар в день рождения.\n"
   ]
  },
  {
   "cell_type": "markdown",
   "metadata": {},
   "source": [
    "По итогу выбора наилучшей гипотезы, путем их приоритизации, был проведен A/B-тест."
   ]
  },
  {
   "cell_type": "markdown",
   "metadata": {},
   "source": [
    "В нашем распоряжении данные за август 2019 г."
   ]
  },
  {
   "cell_type": "markdown",
   "metadata": {},
   "source": [
    "Содержание проекта:\n",
    "\n",
    "1. Загрузка данных и подготовка их к анализу.\n",
    "2. Приоритизация гипотез.\n",
    "3. Анализ A/B-теста.\n",
    "4. Общий вывод."
   ]
  },
  {
   "cell_type": "markdown",
   "metadata": {},
   "source": [
    "## Загрузка данных и подготовка их к анализу."
   ]
  },
  {
   "cell_type": "code",
   "execution_count": 1,
   "metadata": {},
   "outputs": [],
   "source": [
    "import pandas as pd\n",
    "import datetime as dt\n",
    "import numpy as np\n",
    "import matplotlib.pyplot as plt\n",
    "from pandas.plotting import register_matplotlib_converters\n",
    "import warnings\n",
    "import scipy.stats as stats\n",
    "\n",
    "# конвертеры, которые позволяют использовать типы pandas в matplotlib \n",
    "register_matplotlib_converters()"
   ]
  },
  {
   "cell_type": "code",
   "execution_count": 2,
   "metadata": {},
   "outputs": [],
   "source": [
    "hypothesis = pd.read_csv('/datasets/hypothesis.csv')"
   ]
  },
  {
   "cell_type": "code",
   "execution_count": 3,
   "metadata": {},
   "outputs": [
    {
     "name": "stdout",
     "output_type": "stream",
     "text": [
      "<class 'pandas.core.frame.DataFrame'>\n",
      "RangeIndex: 9 entries, 0 to 8\n",
      "Data columns (total 5 columns):\n",
      " #   Column      Non-Null Count  Dtype \n",
      "---  ------      --------------  ----- \n",
      " 0   Hypothesis  9 non-null      object\n",
      " 1   Reach       9 non-null      int64 \n",
      " 2   Impact      9 non-null      int64 \n",
      " 3   Confidence  9 non-null      int64 \n",
      " 4   Efforts     9 non-null      int64 \n",
      "dtypes: int64(4), object(1)\n",
      "memory usage: 488.0+ bytes\n"
     ]
    }
   ],
   "source": [
    "hypothesis.info()"
   ]
  },
  {
   "cell_type": "markdown",
   "metadata": {},
   "source": [
    "Приводим столбцы к нижнему регистру."
   ]
  },
  {
   "cell_type": "code",
   "execution_count": 4,
   "metadata": {},
   "outputs": [],
   "source": [
    "hypothesis.columns = hypothesis.columns.str.lower()"
   ]
  },
  {
   "cell_type": "code",
   "execution_count": 5,
   "metadata": {},
   "outputs": [
    {
     "data": {
      "text/html": [
       "<div>\n",
       "<style scoped>\n",
       "    .dataframe tbody tr th:only-of-type {\n",
       "        vertical-align: middle;\n",
       "    }\n",
       "\n",
       "    .dataframe tbody tr th {\n",
       "        vertical-align: top;\n",
       "    }\n",
       "\n",
       "    .dataframe thead th {\n",
       "        text-align: right;\n",
       "    }\n",
       "</style>\n",
       "<table border=\"1\" class=\"dataframe\">\n",
       "  <thead>\n",
       "    <tr style=\"text-align: right;\">\n",
       "      <th></th>\n",
       "      <th>hypothesis</th>\n",
       "      <th>reach</th>\n",
       "      <th>impact</th>\n",
       "      <th>confidence</th>\n",
       "      <th>efforts</th>\n",
       "    </tr>\n",
       "  </thead>\n",
       "  <tbody>\n",
       "    <tr>\n",
       "      <th>0</th>\n",
       "      <td>Добавить два новых канала привлечения трафика,...</td>\n",
       "      <td>3</td>\n",
       "      <td>10</td>\n",
       "      <td>8</td>\n",
       "      <td>6</td>\n",
       "    </tr>\n",
       "    <tr>\n",
       "      <th>2</th>\n",
       "      <td>Добавить блоки рекомендаций товаров на сайт ин...</td>\n",
       "      <td>8</td>\n",
       "      <td>3</td>\n",
       "      <td>7</td>\n",
       "      <td>3</td>\n",
       "    </tr>\n",
       "    <tr>\n",
       "      <th>5</th>\n",
       "      <td>Добавить страницу отзывов клиентов о магазине,...</td>\n",
       "      <td>3</td>\n",
       "      <td>2</td>\n",
       "      <td>2</td>\n",
       "      <td>3</td>\n",
       "    </tr>\n",
       "    <tr>\n",
       "      <th>1</th>\n",
       "      <td>Запустить собственную службу доставки, что сок...</td>\n",
       "      <td>2</td>\n",
       "      <td>5</td>\n",
       "      <td>4</td>\n",
       "      <td>10</td>\n",
       "    </tr>\n",
       "    <tr>\n",
       "      <th>3</th>\n",
       "      <td>Изменить структура категорий, что увеличит кон...</td>\n",
       "      <td>8</td>\n",
       "      <td>3</td>\n",
       "      <td>3</td>\n",
       "      <td>8</td>\n",
       "    </tr>\n",
       "  </tbody>\n",
       "</table>\n",
       "</div>"
      ],
      "text/plain": [
       "                                          hypothesis  reach  impact  \\\n",
       "0  Добавить два новых канала привлечения трафика,...      3      10   \n",
       "2  Добавить блоки рекомендаций товаров на сайт ин...      8       3   \n",
       "5  Добавить страницу отзывов клиентов о магазине,...      3       2   \n",
       "1  Запустить собственную службу доставки, что сок...      2       5   \n",
       "3  Изменить структура категорий, что увеличит кон...      8       3   \n",
       "\n",
       "   confidence  efforts  \n",
       "0           8        6  \n",
       "2           7        3  \n",
       "5           2        3  \n",
       "1           4       10  \n",
       "3           3        8  "
      ]
     },
     "execution_count": 5,
     "metadata": {},
     "output_type": "execute_result"
    }
   ],
   "source": [
    "hypothesis.sample(5)"
   ]
  },
  {
   "cell_type": "markdown",
   "metadata": {},
   "source": [
    "В датафрейме 9 гипотез, шкала расчета от 1 до 10."
   ]
  },
  {
   "cell_type": "code",
   "execution_count": 6,
   "metadata": {},
   "outputs": [],
   "source": [
    "orders = pd.read_csv('/datasets/orders.csv')"
   ]
  },
  {
   "cell_type": "code",
   "execution_count": 7,
   "metadata": {},
   "outputs": [
    {
     "name": "stdout",
     "output_type": "stream",
     "text": [
      "<class 'pandas.core.frame.DataFrame'>\n",
      "RangeIndex: 1197 entries, 0 to 1196\n",
      "Data columns (total 5 columns):\n",
      " #   Column         Non-Null Count  Dtype \n",
      "---  ------         --------------  ----- \n",
      " 0   transactionId  1197 non-null   int64 \n",
      " 1   visitorId      1197 non-null   int64 \n",
      " 2   date           1197 non-null   object\n",
      " 3   revenue        1197 non-null   int64 \n",
      " 4   group          1197 non-null   object\n",
      "dtypes: int64(3), object(2)\n",
      "memory usage: 46.9+ KB\n"
     ]
    }
   ],
   "source": [
    "orders.info()"
   ]
  },
  {
   "cell_type": "code",
   "execution_count": 8,
   "metadata": {},
   "outputs": [],
   "source": [
    "orders.rename(columns={'transactionId': 'transaction_id', 'visitorId': 'visitor_id'}, inplace=True)"
   ]
  },
  {
   "cell_type": "code",
   "execution_count": 9,
   "metadata": {},
   "outputs": [],
   "source": [
    "orders['date'] = pd.to_datetime(orders['date'])"
   ]
  },
  {
   "cell_type": "code",
   "execution_count": 10,
   "metadata": {},
   "outputs": [
    {
     "data": {
      "text/html": [
       "<div>\n",
       "<style scoped>\n",
       "    .dataframe tbody tr th:only-of-type {\n",
       "        vertical-align: middle;\n",
       "    }\n",
       "\n",
       "    .dataframe tbody tr th {\n",
       "        vertical-align: top;\n",
       "    }\n",
       "\n",
       "    .dataframe thead th {\n",
       "        text-align: right;\n",
       "    }\n",
       "</style>\n",
       "<table border=\"1\" class=\"dataframe\">\n",
       "  <thead>\n",
       "    <tr style=\"text-align: right;\">\n",
       "      <th></th>\n",
       "      <th>transaction_id</th>\n",
       "      <th>visitor_id</th>\n",
       "      <th>date</th>\n",
       "      <th>revenue</th>\n",
       "      <th>group</th>\n",
       "    </tr>\n",
       "  </thead>\n",
       "  <tbody>\n",
       "    <tr>\n",
       "      <th>463</th>\n",
       "      <td>4170537404</td>\n",
       "      <td>290022471</td>\n",
       "      <td>2019-08-19</td>\n",
       "      <td>16480</td>\n",
       "      <td>B</td>\n",
       "    </tr>\n",
       "    <tr>\n",
       "      <th>522</th>\n",
       "      <td>815003794</td>\n",
       "      <td>1303698307</td>\n",
       "      <td>2019-08-26</td>\n",
       "      <td>3390</td>\n",
       "      <td>B</td>\n",
       "    </tr>\n",
       "    <tr>\n",
       "      <th>387</th>\n",
       "      <td>1441625969</td>\n",
       "      <td>3353177029</td>\n",
       "      <td>2019-08-03</td>\n",
       "      <td>1450</td>\n",
       "      <td>A</td>\n",
       "    </tr>\n",
       "    <tr>\n",
       "      <th>1045</th>\n",
       "      <td>1076322816</td>\n",
       "      <td>2219162270</td>\n",
       "      <td>2019-08-11</td>\n",
       "      <td>6060</td>\n",
       "      <td>A</td>\n",
       "    </tr>\n",
       "    <tr>\n",
       "      <th>568</th>\n",
       "      <td>4021746511</td>\n",
       "      <td>113298937</td>\n",
       "      <td>2019-08-09</td>\n",
       "      <td>27600</td>\n",
       "      <td>B</td>\n",
       "    </tr>\n",
       "  </tbody>\n",
       "</table>\n",
       "</div>"
      ],
      "text/plain": [
       "      transaction_id  visitor_id       date  revenue group\n",
       "463       4170537404   290022471 2019-08-19    16480     B\n",
       "522        815003794  1303698307 2019-08-26     3390     B\n",
       "387       1441625969  3353177029 2019-08-03     1450     A\n",
       "1045      1076322816  2219162270 2019-08-11     6060     A\n",
       "568       4021746511   113298937 2019-08-09    27600     B"
      ]
     },
     "execution_count": 10,
     "metadata": {},
     "output_type": "execute_result"
    }
   ],
   "source": [
    "orders.sample(5)"
   ]
  },
  {
   "cell_type": "code",
   "execution_count": 11,
   "metadata": {},
   "outputs": [
    {
     "name": "stdout",
     "output_type": "stream",
     "text": [
      "<class 'pandas.core.frame.DataFrame'>\n",
      "RangeIndex: 1197 entries, 0 to 1196\n",
      "Data columns (total 5 columns):\n",
      " #   Column          Non-Null Count  Dtype         \n",
      "---  ------          --------------  -----         \n",
      " 0   transaction_id  1197 non-null   int64         \n",
      " 1   visitor_id      1197 non-null   int64         \n",
      " 2   date            1197 non-null   datetime64[ns]\n",
      " 3   revenue         1197 non-null   int64         \n",
      " 4   group           1197 non-null   object        \n",
      "dtypes: datetime64[ns](1), int64(3), object(1)\n",
      "memory usage: 46.9+ KB\n"
     ]
    }
   ],
   "source": [
    "orders.info()"
   ]
  },
  {
   "cell_type": "markdown",
   "metadata": {},
   "source": [
    "В датафрэйме заказов  мы привели данные с датой к необходимому формату, и столбцы к \"змеиному\" регистру."
   ]
  },
  {
   "cell_type": "code",
   "execution_count": 12,
   "metadata": {},
   "outputs": [],
   "source": [
    "visitors = pd.read_csv('/datasets/visitors.csv')"
   ]
  },
  {
   "cell_type": "code",
   "execution_count": 13,
   "metadata": {},
   "outputs": [
    {
     "name": "stdout",
     "output_type": "stream",
     "text": [
      "<class 'pandas.core.frame.DataFrame'>\n",
      "RangeIndex: 62 entries, 0 to 61\n",
      "Data columns (total 3 columns):\n",
      " #   Column    Non-Null Count  Dtype \n",
      "---  ------    --------------  ----- \n",
      " 0   date      62 non-null     object\n",
      " 1   group     62 non-null     object\n",
      " 2   visitors  62 non-null     int64 \n",
      "dtypes: int64(1), object(2)\n",
      "memory usage: 1.6+ KB\n"
     ]
    }
   ],
   "source": [
    "visitors.info()"
   ]
  },
  {
   "cell_type": "code",
   "execution_count": 14,
   "metadata": {},
   "outputs": [],
   "source": [
    "visitors['date'] = pd.to_datetime(visitors['date'])"
   ]
  },
  {
   "cell_type": "code",
   "execution_count": 15,
   "metadata": {},
   "outputs": [
    {
     "name": "stdout",
     "output_type": "stream",
     "text": [
      "<class 'pandas.core.frame.DataFrame'>\n",
      "RangeIndex: 62 entries, 0 to 61\n",
      "Data columns (total 3 columns):\n",
      " #   Column    Non-Null Count  Dtype         \n",
      "---  ------    --------------  -----         \n",
      " 0   date      62 non-null     datetime64[ns]\n",
      " 1   group     62 non-null     object        \n",
      " 2   visitors  62 non-null     int64         \n",
      "dtypes: datetime64[ns](1), int64(1), object(1)\n",
      "memory usage: 1.6+ KB\n"
     ]
    }
   ],
   "source": [
    "visitors.info()"
   ]
  },
  {
   "cell_type": "code",
   "execution_count": 16,
   "metadata": {},
   "outputs": [
    {
     "data": {
      "text/html": [
       "<div>\n",
       "<style scoped>\n",
       "    .dataframe tbody tr th:only-of-type {\n",
       "        vertical-align: middle;\n",
       "    }\n",
       "\n",
       "    .dataframe tbody tr th {\n",
       "        vertical-align: top;\n",
       "    }\n",
       "\n",
       "    .dataframe thead th {\n",
       "        text-align: right;\n",
       "    }\n",
       "</style>\n",
       "<table border=\"1\" class=\"dataframe\">\n",
       "  <thead>\n",
       "    <tr style=\"text-align: right;\">\n",
       "      <th></th>\n",
       "      <th>date</th>\n",
       "      <th>group</th>\n",
       "      <th>visitors</th>\n",
       "    </tr>\n",
       "  </thead>\n",
       "  <tbody>\n",
       "    <tr>\n",
       "      <th>58</th>\n",
       "      <td>2019-08-28</td>\n",
       "      <td>B</td>\n",
       "      <td>654</td>\n",
       "    </tr>\n",
       "    <tr>\n",
       "      <th>50</th>\n",
       "      <td>2019-08-20</td>\n",
       "      <td>B</td>\n",
       "      <td>560</td>\n",
       "    </tr>\n",
       "    <tr>\n",
       "      <th>7</th>\n",
       "      <td>2019-08-08</td>\n",
       "      <td>A</td>\n",
       "      <td>610</td>\n",
       "    </tr>\n",
       "    <tr>\n",
       "      <th>53</th>\n",
       "      <td>2019-08-23</td>\n",
       "      <td>B</td>\n",
       "      <td>546</td>\n",
       "    </tr>\n",
       "    <tr>\n",
       "      <th>10</th>\n",
       "      <td>2019-08-11</td>\n",
       "      <td>A</td>\n",
       "      <td>718</td>\n",
       "    </tr>\n",
       "  </tbody>\n",
       "</table>\n",
       "</div>"
      ],
      "text/plain": [
       "         date group  visitors\n",
       "58 2019-08-28     B       654\n",
       "50 2019-08-20     B       560\n",
       "7  2019-08-08     A       610\n",
       "53 2019-08-23     B       546\n",
       "10 2019-08-11     A       718"
      ]
     },
     "execution_count": 16,
     "metadata": {},
     "output_type": "execute_result"
    }
   ],
   "source": [
    "visitors.sample(5)"
   ]
  },
  {
   "cell_type": "markdown",
   "metadata": {},
   "source": [
    "В таблице с данными о посетителях мы изменили только столбец с датой и привели его к стандартному формату."
   ]
  },
  {
   "cell_type": "markdown",
   "metadata": {},
   "source": [
    "Для всех датафреймов запустим проверку на дубликаты."
   ]
  },
  {
   "cell_type": "code",
   "execution_count": 17,
   "metadata": {},
   "outputs": [],
   "source": [
    "# for i in [visitors, hypothesis, orders]:\n",
    "#     display(i.duplicated().sum()) "
   ]
  },
  {
   "cell_type": "code",
   "execution_count": 18,
   "metadata": {},
   "outputs": [],
   "source": [
    "def basic_checks(data):\n",
    "    for index, i in enumerate(data, 1):\n",
    "        print(f'Проверка датафрейма {index}:')\n",
    "        \n",
    "        # Проверка на дубликаты\n",
    "        duplicates = i.duplicated().sum()\n",
    "        if duplicates > 0:\n",
    "            print(f'Обнаружено {duplicates} дубликатов в столбцах: {\", \".join(i.columns)}')\n",
    "        else:\n",
    "            print(f'Дубликатов не обнаружено.')\n",
    "            \n",
    "        # Проверка на пропуски   \n",
    "        missings = i.isnull().sum().sum()\n",
    "        if missings > 0:\n",
    "            print(f'Обнаружено {missings} пропусков в столбцах: {\", \".join(i.columns)}')\n",
    "        else:\n",
    "            print(f'Пропусков не обнаружено.')"
   ]
  },
  {
   "cell_type": "code",
   "execution_count": 19,
   "metadata": {},
   "outputs": [
    {
     "name": "stdout",
     "output_type": "stream",
     "text": [
      "Проверка датафрейма 1:\n",
      "Дубликатов не обнаружено.\n",
      "Пропусков не обнаружено.\n",
      "Проверка датафрейма 2:\n",
      "Дубликатов не обнаружено.\n",
      "Пропусков не обнаружено.\n",
      "Проверка датафрейма 3:\n",
      "Дубликатов не обнаружено.\n",
      "Пропусков не обнаружено.\n"
     ]
    }
   ],
   "source": [
    "basic_checks([visitors, hypothesis, orders])"
   ]
  },
  {
   "cell_type": "code",
   "execution_count": 20,
   "metadata": {},
   "outputs": [
    {
     "name": "stdout",
     "output_type": "stream",
     "text": [
      "2019-08-01 00:00:00 2019-08-31 00:00:00\n",
      "2019-08-01 00:00:00 2019-08-31 00:00:00\n",
      "50 1294500\n"
     ]
    }
   ],
   "source": [
    "for i in [visitors['date'], orders['date'], orders['revenue']]:\n",
    "    print(i.min(), i.max())"
   ]
  },
  {
   "cell_type": "code",
   "execution_count": 21,
   "metadata": {},
   "outputs": [],
   "source": [
    "def check_minmax(dataframes):\n",
    "    results = []\n",
    "    for i in dataframes:\n",
    "        # Поиск минимальных и максимальных значений для числовых столбцов\n",
    "        numeric_columns = i.select_dtypes(include=['float', 'int', 'datetime64']).columns\n",
    "        for column in numeric_columns:\n",
    "            min_value = i[column].min()\n",
    "            max_value = i[column].max()\n",
    "            results.append(f\"Минимальное значение в  {column}: {min_value}\")\n",
    "            results.append(f\"Максимальное значение в {column}: {max_value}\")\n",
    "    \n",
    "    return results"
   ]
  },
  {
   "cell_type": "code",
   "execution_count": 22,
   "metadata": {},
   "outputs": [
    {
     "data": {
      "text/plain": [
       "['Минимальное значение в  date: 2019-08-01 00:00:00',\n",
       " 'Максимальное значение в date: 2019-08-31 00:00:00',\n",
       " 'Минимальное значение в  visitors: 361',\n",
       " 'Максимальное значение в visitors: 770',\n",
       " 'Минимальное значение в  transaction_id: 1062393',\n",
       " 'Максимальное значение в transaction_id: 4293855558',\n",
       " 'Минимальное значение в  visitor_id: 5114589',\n",
       " 'Максимальное значение в visitor_id: 4283872382',\n",
       " 'Минимальное значение в  date: 2019-08-01 00:00:00',\n",
       " 'Максимальное значение в date: 2019-08-31 00:00:00',\n",
       " 'Минимальное значение в  revenue: 50',\n",
       " 'Максимальное значение в revenue: 1294500']"
      ]
     },
     "execution_count": 22,
     "metadata": {},
     "output_type": "execute_result"
    }
   ],
   "source": [
    "check_minmax([visitors, orders])"
   ]
  },
  {
   "cell_type": "markdown",
   "metadata": {},
   "source": [
    " **Вывод:** мы произвели проверку трех датафреймов, пропусков нет, дубликатов так же нет, столбцы с данными о дате привели к формату дат, столбцы привели к нижнему змеиному регистру. Данные за август 2019, с минимальным и максимальным значением выручки в 50 и 1 294 500 у.е.."
   ]
  },
  {
   "cell_type": "markdown",
   "metadata": {},
   "source": [
    "## Приоритизация гипотез."
   ]
  },
  {
   "cell_type": "markdown",
   "metadata": {},
   "source": [
    "В проекте мы будем использовать 2 техники приоритизации гипотез. Метод \"ICE\" и метод \"RICE\"."
   ]
  },
  {
   "cell_type": "code",
   "execution_count": 24,
   "metadata": {},
   "outputs": [],
   "source": [
    "pd.options.display.max_colwidth = 120"
   ]
  },
  {
   "cell_type": "code",
   "execution_count": 25,
   "metadata": {},
   "outputs": [
    {
     "data": {
      "text/html": [
       "<div>\n",
       "<style scoped>\n",
       "    .dataframe tbody tr th:only-of-type {\n",
       "        vertical-align: middle;\n",
       "    }\n",
       "\n",
       "    .dataframe tbody tr th {\n",
       "        vertical-align: top;\n",
       "    }\n",
       "\n",
       "    .dataframe thead th {\n",
       "        text-align: right;\n",
       "    }\n",
       "</style>\n",
       "<table border=\"1\" class=\"dataframe\">\n",
       "  <thead>\n",
       "    <tr style=\"text-align: right;\">\n",
       "      <th></th>\n",
       "      <th>hypothesis</th>\n",
       "      <th>reach</th>\n",
       "      <th>impact</th>\n",
       "      <th>confidence</th>\n",
       "      <th>efforts</th>\n",
       "    </tr>\n",
       "  </thead>\n",
       "  <tbody>\n",
       "    <tr>\n",
       "      <th>0</th>\n",
       "      <td>Добавить два новых канала привлечения трафика, что позволит привлекать на 30% больше пользователей</td>\n",
       "      <td>3</td>\n",
       "      <td>10</td>\n",
       "      <td>8</td>\n",
       "      <td>6</td>\n",
       "    </tr>\n",
       "    <tr>\n",
       "      <th>1</th>\n",
       "      <td>Запустить собственную службу доставки, что сократит срок доставки заказов</td>\n",
       "      <td>2</td>\n",
       "      <td>5</td>\n",
       "      <td>4</td>\n",
       "      <td>10</td>\n",
       "    </tr>\n",
       "    <tr>\n",
       "      <th>2</th>\n",
       "      <td>Добавить блоки рекомендаций товаров на сайт интернет магазина, чтобы повысить конверсию и средний чек заказа</td>\n",
       "      <td>8</td>\n",
       "      <td>3</td>\n",
       "      <td>7</td>\n",
       "      <td>3</td>\n",
       "    </tr>\n",
       "    <tr>\n",
       "      <th>3</th>\n",
       "      <td>Изменить структура категорий, что увеличит конверсию, т.к. пользователи быстрее найдут нужный товар</td>\n",
       "      <td>8</td>\n",
       "      <td>3</td>\n",
       "      <td>3</td>\n",
       "      <td>8</td>\n",
       "    </tr>\n",
       "    <tr>\n",
       "      <th>4</th>\n",
       "      <td>Изменить цвет фона главной страницы, чтобы увеличить вовлеченность пользователей</td>\n",
       "      <td>3</td>\n",
       "      <td>1</td>\n",
       "      <td>1</td>\n",
       "      <td>1</td>\n",
       "    </tr>\n",
       "    <tr>\n",
       "      <th>5</th>\n",
       "      <td>Добавить страницу отзывов клиентов о магазине, что позволит увеличить количество заказов</td>\n",
       "      <td>3</td>\n",
       "      <td>2</td>\n",
       "      <td>2</td>\n",
       "      <td>3</td>\n",
       "    </tr>\n",
       "    <tr>\n",
       "      <th>6</th>\n",
       "      <td>Показать на главной странице баннеры с актуальными акциями и распродажами, чтобы увеличить конверсию</td>\n",
       "      <td>5</td>\n",
       "      <td>3</td>\n",
       "      <td>8</td>\n",
       "      <td>3</td>\n",
       "    </tr>\n",
       "    <tr>\n",
       "      <th>7</th>\n",
       "      <td>Добавить форму подписки на все основные страницы, чтобы собрать базу клиентов для email-рассылок</td>\n",
       "      <td>10</td>\n",
       "      <td>7</td>\n",
       "      <td>8</td>\n",
       "      <td>5</td>\n",
       "    </tr>\n",
       "    <tr>\n",
       "      <th>8</th>\n",
       "      <td>Запустить акцию, дающую скидку на товар в день рождения</td>\n",
       "      <td>1</td>\n",
       "      <td>9</td>\n",
       "      <td>9</td>\n",
       "      <td>5</td>\n",
       "    </tr>\n",
       "  </tbody>\n",
       "</table>\n",
       "</div>"
      ],
      "text/plain": [
       "                                                                                                     hypothesis  \\\n",
       "0            Добавить два новых канала привлечения трафика, что позволит привлекать на 30% больше пользователей   \n",
       "1                                     Запустить собственную службу доставки, что сократит срок доставки заказов   \n",
       "2  Добавить блоки рекомендаций товаров на сайт интернет магазина, чтобы повысить конверсию и средний чек заказа   \n",
       "3           Изменить структура категорий, что увеличит конверсию, т.к. пользователи быстрее найдут нужный товар   \n",
       "4                              Изменить цвет фона главной страницы, чтобы увеличить вовлеченность пользователей   \n",
       "5                      Добавить страницу отзывов клиентов о магазине, что позволит увеличить количество заказов   \n",
       "6          Показать на главной странице баннеры с актуальными акциями и распродажами, чтобы увеличить конверсию   \n",
       "7              Добавить форму подписки на все основные страницы, чтобы собрать базу клиентов для email-рассылок   \n",
       "8                                                       Запустить акцию, дающую скидку на товар в день рождения   \n",
       "\n",
       "   reach  impact  confidence  efforts  \n",
       "0      3      10           8        6  \n",
       "1      2       5           4       10  \n",
       "2      8       3           7        3  \n",
       "3      8       3           3        8  \n",
       "4      3       1           1        1  \n",
       "5      3       2           2        3  \n",
       "6      5       3           8        3  \n",
       "7     10       7           8        5  \n",
       "8      1       9           9        5  "
      ]
     },
     "execution_count": 25,
     "metadata": {},
     "output_type": "execute_result"
    }
   ],
   "source": [
    "hypothesis "
   ]
  },
  {
   "cell_type": "markdown",
   "metadata": {},
   "source": [
    "9 гипотез, используется шкала от 1 до 10."
   ]
  },
  {
   "cell_type": "markdown",
   "metadata": {},
   "source": [
    "### ICE."
   ]
  },
  {
   "cell_type": "markdown",
   "metadata": {},
   "source": [
    "Расчет по методике включает в себя произведение влияния на уверенность, деленные на усилия."
   ]
  },
  {
   "cell_type": "code",
   "execution_count": 27,
   "metadata": {},
   "outputs": [],
   "source": [
    "pd.options.display.max_colwidth = 60"
   ]
  },
  {
   "cell_type": "code",
   "execution_count": 28,
   "metadata": {},
   "outputs": [],
   "source": [
    "hypothesis['ICE'] = ((hypothesis['impact'] * hypothesis['confidence'])/ hypothesis['efforts']).round(2)"
   ]
  },
  {
   "cell_type": "code",
   "execution_count": 29,
   "metadata": {},
   "outputs": [],
   "source": [
    "hypothesis['rank'] = hypothesis['ICE'].rank(ascending=False, method='dense').astype(int)"
   ]
  },
  {
   "cell_type": "code",
   "execution_count": 30,
   "metadata": {},
   "outputs": [
    {
     "name": "stdout",
     "output_type": "stream",
     "text": [
      "                                                    hypothesis    ICE  rank\n",
      "8      Запустить акцию, дающую скидку на товар в день рождения  16.20     1\n",
      "0  Добавить два новых канала привлечения трафика, что позво...  13.33     2\n",
      "7  Добавить форму подписки на все основные страницы, чтобы ...  11.20     3\n",
      "6  Показать на главной странице баннеры с актуальными акция...   8.00     4\n",
      "2  Добавить блоки рекомендаций товаров на сайт интернет маг...   7.00     5\n",
      "1  Запустить собственную службу доставки, что сократит срок...   2.00     6\n",
      "5  Добавить страницу отзывов клиентов о магазине, что позво...   1.33     7\n",
      "3  Изменить структура категорий, что увеличит конверсию, т....   1.12     8\n",
      "4  Изменить цвет фона главной страницы, чтобы увеличить вов...   1.00     9\n"
     ]
    }
   ],
   "source": [
    "print(hypothesis[['hypothesis','ICE', 'rank']].sort_values(by ='ICE', ascending =False))"
   ]
  },
  {
   "cell_type": "markdown",
   "metadata": {},
   "source": [
    "**Вывод:**  лидерами техники стали такие гипотезы как: \n",
    "- запуск акции, дающую скидку на товар в день рождения;\n",
    "- добавить два новых канала привлечения трафика, что позволит привлекать на 30% больше пользователей;\n",
    "- добавить форму подписки на все основные страницы, чтобы собрать базу клиентов для email-рассылок."
   ]
  },
  {
   "cell_type": "markdown",
   "metadata": {},
   "source": [
    "### RICE"
   ]
  },
  {
   "cell_type": "markdown",
   "metadata": {},
   "source": [
    "В технике добавляется новый компонент \"охват\", который измеряется количеством людей/событий за определенный период времени.\n",
    "Следовательно, результатом является произведение охвата на влияния на уверенность, деленные на усилия."
   ]
  },
  {
   "cell_type": "code",
   "execution_count": 31,
   "metadata": {},
   "outputs": [],
   "source": [
    "hypothesis['RICE'] = (hypothesis['reach'] * hypothesis['impact'] * hypothesis['confidence'])/ hypothesis['efforts']"
   ]
  },
  {
   "cell_type": "code",
   "execution_count": 32,
   "metadata": {},
   "outputs": [],
   "source": [
    "hypothesis['rank'] = hypothesis['RICE'].rank(ascending=False, method='dense').astype(int)"
   ]
  },
  {
   "cell_type": "code",
   "execution_count": 33,
   "metadata": {},
   "outputs": [
    {
     "name": "stdout",
     "output_type": "stream",
     "text": [
      "                                                    hypothesis   RICE  rank\n",
      "7  Добавить форму подписки на все основные страницы, чтобы ...  112.0     1\n",
      "2  Добавить блоки рекомендаций товаров на сайт интернет маг...   56.0     2\n",
      "0  Добавить два новых канала привлечения трафика, что позво...   40.0     3\n",
      "6  Показать на главной странице баннеры с актуальными акция...   40.0     3\n",
      "8      Запустить акцию, дающую скидку на товар в день рождения   16.2     4\n",
      "3  Изменить структура категорий, что увеличит конверсию, т....    9.0     5\n",
      "1  Запустить собственную службу доставки, что сократит срок...    4.0     6\n",
      "5  Добавить страницу отзывов клиентов о магазине, что позво...    4.0     6\n",
      "4  Изменить цвет фона главной страницы, чтобы увеличить вов...    3.0     7\n"
     ]
    }
   ],
   "source": [
    "print(hypothesis[['hypothesis','RICE', 'rank']].sort_values(by ='RICE', ascending =False))"
   ]
  },
  {
   "cell_type": "markdown",
   "metadata": {},
   "source": [
    "**Вывод:** мы видим изменение лидеров среди гипотез на \"добавить форму подписки на все основные страницы, чтобы собрать базу клиентов для email-рассылок\" и \"Добавить блоки рекомендаций товаров на сайт интернет магазина, чтобы повысить конверсию и средний чек заказа\"."
   ]
  },
  {
   "cell_type": "markdown",
   "metadata": {},
   "source": [
    "### Выводы приоритизации гипотез."
   ]
  },
  {
   "cell_type": "markdown",
   "metadata": {},
   "source": [
    "После проведения повторной приоритизации методом 'RICE' была выделена основная гипотеза для дальнейшей проверки и внедрения, а именно \"добавить форму подписки на все основные страницы, чтобы собрать базу клиентов для email-рассылок\". Напомню, что изменение лидеров произошло после того, как во внимание был принят охват т.е. на какое количество людей изменение повлияет в течение определенного периода времени.\n",
    "Преимущество 'RICE' перед 'ICE' в оценке аудитории, которая увидит изменения."
   ]
  },
  {
   "cell_type": "markdown",
   "metadata": {},
   "source": [
    "## Анализ A/B-теста."
   ]
  },
  {
   "cell_type": "code",
   "execution_count": 34,
   "metadata": {},
   "outputs": [
    {
     "name": "stdout",
     "output_type": "stream",
     "text": [
      "<class 'pandas.core.frame.DataFrame'>\n",
      "RangeIndex: 1197 entries, 0 to 1196\n",
      "Data columns (total 5 columns):\n",
      " #   Column          Non-Null Count  Dtype         \n",
      "---  ------          --------------  -----         \n",
      " 0   transaction_id  1197 non-null   int64         \n",
      " 1   visitor_id      1197 non-null   int64         \n",
      " 2   date            1197 non-null   datetime64[ns]\n",
      " 3   revenue         1197 non-null   int64         \n",
      " 4   group           1197 non-null   object        \n",
      "dtypes: datetime64[ns](1), int64(3), object(1)\n",
      "memory usage: 46.9+ KB\n"
     ]
    }
   ],
   "source": [
    "orders.info()"
   ]
  },
  {
   "cell_type": "code",
   "execution_count": 35,
   "metadata": {},
   "outputs": [
    {
     "data": {
      "text/plain": [
       "group    58\n",
       "dtype: int64"
      ]
     },
     "execution_count": 35,
     "metadata": {},
     "output_type": "execute_result"
    }
   ],
   "source": [
    "orders.groupby('visitor_id').agg({'group' : 'nunique'}).query('group>1').count()"
   ]
  },
  {
   "cell_type": "code",
   "execution_count": 36,
   "metadata": {},
   "outputs": [],
   "source": [
    "doubls = orders.groupby('visitor_id').agg({'group' : 'nunique'}).reset_index().query('group>1')['visitor_id'].unique()"
   ]
  },
  {
   "cell_type": "code",
   "execution_count": 37,
   "metadata": {},
   "outputs": [],
   "source": [
    "orders = orders.query('visitor_id not in @doubls')"
   ]
  },
  {
   "cell_type": "code",
   "execution_count": 38,
   "metadata": {},
   "outputs": [
    {
     "name": "stdout",
     "output_type": "stream",
     "text": [
      "<class 'pandas.core.frame.DataFrame'>\n",
      "Int64Index: 1016 entries, 0 to 1196\n",
      "Data columns (total 5 columns):\n",
      " #   Column          Non-Null Count  Dtype         \n",
      "---  ------          --------------  -----         \n",
      " 0   transaction_id  1016 non-null   int64         \n",
      " 1   visitor_id      1016 non-null   int64         \n",
      " 2   date            1016 non-null   datetime64[ns]\n",
      " 3   revenue         1016 non-null   int64         \n",
      " 4   group           1016 non-null   object        \n",
      "dtypes: datetime64[ns](1), int64(3), object(1)\n",
      "memory usage: 47.6+ KB\n"
     ]
    }
   ],
   "source": [
    "orders.info()"
   ]
  },
  {
   "cell_type": "code",
   "execution_count": 39,
   "metadata": {},
   "outputs": [],
   "source": [
    "t1 = orders.query('revenue <= 100000') # чтобы посмотреть без выбросов"
   ]
  },
  {
   "cell_type": "code",
   "execution_count": 40,
   "metadata": {},
   "outputs": [
    {
     "name": "stdout",
     "output_type": "stream",
     "text": [
      "<class 'pandas.core.frame.DataFrame'>\n",
      "Int64Index: 1014 entries, 0 to 1194\n",
      "Data columns (total 5 columns):\n",
      " #   Column          Non-Null Count  Dtype         \n",
      "---  ------          --------------  -----         \n",
      " 0   transaction_id  1014 non-null   int64         \n",
      " 1   visitor_id      1014 non-null   int64         \n",
      " 2   date            1014 non-null   datetime64[ns]\n",
      " 3   revenue         1014 non-null   int64         \n",
      " 4   group           1014 non-null   object        \n",
      "dtypes: datetime64[ns](1), int64(3), object(1)\n",
      "memory usage: 47.5+ KB\n"
     ]
    }
   ],
   "source": [
    "t1.info()"
   ]
  },
  {
   "cell_type": "markdown",
   "metadata": {},
   "source": [
    "### Построим график кумулятивной выручки по группам."
   ]
  },
  {
   "cell_type": "code",
   "execution_count": 41,
   "metadata": {},
   "outputs": [],
   "source": [
    "dates_groups = orders[['date', 'group']].drop_duplicates()"
   ]
  },
  {
   "cell_type": "code",
   "execution_count": 42,
   "metadata": {},
   "outputs": [],
   "source": [
    "ds = t1[['date', 'group']].drop_duplicates()"
   ]
  },
  {
   "cell_type": "code",
   "execution_count": 43,
   "metadata": {},
   "outputs": [],
   "source": [
    "orders_aggregated = dates_groups.apply(\n",
    "    lambda x: orders[\n",
    "        np.logical_and(\n",
    "            orders['date'] <= x['date'], orders['group'] == x['group']\n",
    "        )\n",
    "    ].agg(\n",
    "        {\n",
    "            'date': 'max',\n",
    "            'group': 'max',\n",
    "            'transaction_id': 'nunique',\n",
    "            'visitor_id': 'nunique',\n",
    "            'revenue': 'sum',\n",
    "        }\n",
    "    ),\n",
    "    axis=1,\n",
    ").sort_values(by=['date', 'group'])"
   ]
  },
  {
   "cell_type": "code",
   "execution_count": 44,
   "metadata": {},
   "outputs": [
    {
     "name": "stderr",
     "output_type": "stream",
     "text": [
      "/tmp/ipykernel_30/2454121619.py:2: UserWarning: Boolean Series key will be reindexed to match DataFrame index.\n",
      "  lambda x: t1[\n"
     ]
    }
   ],
   "source": [
    "orders_agg = ds.apply(\n",
    "    lambda x: t1[\n",
    "        np.logical_and(\n",
    "            orders['date'] <= x['date'], orders['group'] == x['group']\n",
    "        )\n",
    "    ].agg(\n",
    "        {\n",
    "            'date': 'max',\n",
    "            'group': 'max',\n",
    "            'transaction_id': 'nunique',\n",
    "            'visitor_id': 'nunique',\n",
    "            'revenue': 'sum',\n",
    "        }\n",
    "    ),\n",
    "    axis=1,\n",
    ").sort_values(by=['date', 'group'])"
   ]
  },
  {
   "cell_type": "code",
   "execution_count": 45,
   "metadata": {},
   "outputs": [],
   "source": [
    "visitors_agg = ds.apply(\n",
    "    lambda x: visitors[\n",
    "        np.logical_and(\n",
    "            visitors['date'] <= x['date'], visitors['group'] == x['group']\n",
    "        )\n",
    "    ].agg({'date': 'max', 'group': 'max', 'visitors': 'sum'}),\n",
    "    axis=1,\n",
    ").sort_values(by=['date', 'group'])"
   ]
  },
  {
   "cell_type": "code",
   "execution_count": 46,
   "metadata": {},
   "outputs": [],
   "source": [
    "visitors_aggregated = dates_groups.apply(\n",
    "    lambda x: visitors[\n",
    "        np.logical_and(\n",
    "            visitors['date'] <= x['date'], visitors['group'] == x['group']\n",
    "        )\n",
    "    ].agg({'date': 'max', 'group': 'max', 'visitors': 'sum'}),\n",
    "    axis=1,\n",
    ").sort_values(by=['date', 'group'])"
   ]
  },
  {
   "cell_type": "code",
   "execution_count": 47,
   "metadata": {},
   "outputs": [
    {
     "data": {
      "text/html": [
       "<div>\n",
       "<style scoped>\n",
       "    .dataframe tbody tr th:only-of-type {\n",
       "        vertical-align: middle;\n",
       "    }\n",
       "\n",
       "    .dataframe tbody tr th {\n",
       "        vertical-align: top;\n",
       "    }\n",
       "\n",
       "    .dataframe thead th {\n",
       "        text-align: right;\n",
       "    }\n",
       "</style>\n",
       "<table border=\"1\" class=\"dataframe\">\n",
       "  <thead>\n",
       "    <tr style=\"text-align: right;\">\n",
       "      <th></th>\n",
       "      <th>date</th>\n",
       "      <th>group</th>\n",
       "      <th>visitors</th>\n",
       "    </tr>\n",
       "  </thead>\n",
       "  <tbody>\n",
       "    <tr>\n",
       "      <th>930</th>\n",
       "      <td>2019-08-31</td>\n",
       "      <td>B</td>\n",
       "      <td>18916</td>\n",
       "    </tr>\n",
       "    <tr>\n",
       "      <th>1150</th>\n",
       "      <td>2019-08-14</td>\n",
       "      <td>A</td>\n",
       "      <td>9058</td>\n",
       "    </tr>\n",
       "    <tr>\n",
       "      <th>753</th>\n",
       "      <td>2019-08-21</td>\n",
       "      <td>B</td>\n",
       "      <td>12874</td>\n",
       "    </tr>\n",
       "    <tr>\n",
       "      <th>715</th>\n",
       "      <td>2019-08-27</td>\n",
       "      <td>B</td>\n",
       "      <td>16523</td>\n",
       "    </tr>\n",
       "    <tr>\n",
       "      <th>0</th>\n",
       "      <td>2019-08-15</td>\n",
       "      <td>B</td>\n",
       "      <td>9600</td>\n",
       "    </tr>\n",
       "  </tbody>\n",
       "</table>\n",
       "</div>"
      ],
      "text/plain": [
       "           date group  visitors\n",
       "930  2019-08-31     B     18916\n",
       "1150 2019-08-14     A      9058\n",
       "753  2019-08-21     B     12874\n",
       "715  2019-08-27     B     16523\n",
       "0    2019-08-15     B      9600"
      ]
     },
     "execution_count": 47,
     "metadata": {},
     "output_type": "execute_result"
    }
   ],
   "source": [
    "visitors_aggregated.sample(5) # просто посмотреть, как себя чувствует табл."
   ]
  },
  {
   "cell_type": "code",
   "execution_count": 48,
   "metadata": {},
   "outputs": [],
   "source": [
    "cumulative_data = orders_aggregated.merge(\n",
    "    visitors_aggregated, left_on=['date', 'group'], right_on=['date', 'group']\n",
    ")\n",
    "cumulative_data.columns = [\n",
    "    'date',\n",
    "    'group',\n",
    "    'orders',\n",
    "    'buyers',\n",
    "    'revenue',\n",
    "    'visitors',\n",
    "]"
   ]
  },
  {
   "cell_type": "code",
   "execution_count": 49,
   "metadata": {},
   "outputs": [],
   "source": [
    "cumulative = orders_agg.merge(\n",
    "    visitors_agg, left_on=['date', 'group'], right_on=['date', 'group']\n",
    ")\n",
    "cumulative.columns = [\n",
    "    'date',\n",
    "    'group',\n",
    "    'orders',\n",
    "    'buyers',\n",
    "    'revenue',\n",
    "    'visitors',\n",
    "]"
   ]
  },
  {
   "cell_type": "code",
   "execution_count": 50,
   "metadata": {},
   "outputs": [],
   "source": [
    "cumulative_revenue_A = cumulative_data[cumulative_data['group']=='A'][['date','revenue', 'orders']]\n",
    "cumulative_revenue_B = cumulative_data[cumulative_data['group']=='B'][['date','revenue', 'orders']]"
   ]
  },
  {
   "cell_type": "code",
   "execution_count": 51,
   "metadata": {},
   "outputs": [],
   "source": [
    "cum_rev_A = cumulative[cumulative['group']=='A'][['date','revenue', 'orders']]\n",
    "cum_rev_B = cumulative[cumulative['group']=='B'][['date','revenue', 'orders']]"
   ]
  },
  {
   "cell_type": "code",
   "execution_count": 52,
   "metadata": {},
   "outputs": [
    {
     "data": {
      "image/png": "[encoded data removed]",
      "text/plain": [
       "<Figure size 864x360 with 1 Axes>"
      ]
     },
     "metadata": {
      "needs_background": "light"
     },
     "output_type": "display_data"
    }
   ],
   "source": [
    "plt.figure(figsize=(12,5))\n",
    "plt.plot(cumulative_revenue_A['date'], cumulative_revenue_A['revenue'], label='A')\n",
    "plt.plot(cumulative_revenue_B['date'], cumulative_revenue_B['revenue'], label='B')\n",
    "plt.title('График кумулятивной выручки по группам')\n",
    "plt.xlabel('Даты')\n",
    "plt.ylabel('Выручка')\n",
    "plt.legend()\n",
    "plt.grid();"
   ]
  },
  {
   "cell_type": "code",
   "execution_count": 53,
   "metadata": {},
   "outputs": [
    {
     "data": {
      "image/png": "[encoded data removed]",
      "text/plain": [
       "<Figure size 864x360 with 1 Axes>"
      ]
     },
     "metadata": {
      "needs_background": "light"
     },
     "output_type": "display_data"
    }
   ],
   "source": [
    "plt.figure(figsize=(12,5))\n",
    "plt.plot(cum_rev_A['date'], cum_rev_A['revenue'], label='A')\n",
    "plt.plot(cum_rev_B['date'], cum_rev_B['revenue'], label='B')\n",
    "plt.title('График кумулятивной выручки по группам без выбросов')\n",
    "plt.xlabel('Даты')\n",
    "plt.ylabel('Выручка')\n",
    "plt.legend()\n",
    "plt.grid();"
   ]
  },
  {
   "cell_type": "code",
   "execution_count": 54,
   "metadata": {},
   "outputs": [
    {
     "data": {
      "text/html": [
       "<div>\n",
       "<style scoped>\n",
       "    .dataframe tbody tr th:only-of-type {\n",
       "        vertical-align: middle;\n",
       "    }\n",
       "\n",
       "    .dataframe tbody tr th {\n",
       "        vertical-align: top;\n",
       "    }\n",
       "\n",
       "    .dataframe thead th {\n",
       "        text-align: right;\n",
       "    }\n",
       "</style>\n",
       "<table border=\"1\" class=\"dataframe\">\n",
       "  <thead>\n",
       "    <tr style=\"text-align: right;\">\n",
       "      <th></th>\n",
       "      <th>transaction_id</th>\n",
       "      <th>visitor_id</th>\n",
       "      <th>date</th>\n",
       "      <th>revenue</th>\n",
       "      <th>group</th>\n",
       "    </tr>\n",
       "  </thead>\n",
       "  <tbody>\n",
       "    <tr>\n",
       "      <th>425</th>\n",
       "      <td>590470918</td>\n",
       "      <td>1920142716</td>\n",
       "      <td>2019-08-19</td>\n",
       "      <td>1294500</td>\n",
       "      <td>B</td>\n",
       "    </tr>\n",
       "    <tr>\n",
       "      <th>530</th>\n",
       "      <td>3970235543</td>\n",
       "      <td>2912540959</td>\n",
       "      <td>2019-08-19</td>\n",
       "      <td>43990</td>\n",
       "      <td>A</td>\n",
       "    </tr>\n",
       "    <tr>\n",
       "      <th>751</th>\n",
       "      <td>348143148</td>\n",
       "      <td>689129267</td>\n",
       "      <td>2019-08-20</td>\n",
       "      <td>37150</td>\n",
       "      <td>B</td>\n",
       "    </tr>\n",
       "    <tr>\n",
       "      <th>527</th>\n",
       "      <td>1570513684</td>\n",
       "      <td>2837914161</td>\n",
       "      <td>2019-08-19</td>\n",
       "      <td>33405</td>\n",
       "      <td>B</td>\n",
       "    </tr>\n",
       "    <tr>\n",
       "      <th>421</th>\n",
       "      <td>3765974140</td>\n",
       "      <td>1357170471</td>\n",
       "      <td>2019-08-19</td>\n",
       "      <td>31680</td>\n",
       "      <td>A</td>\n",
       "    </tr>\n",
       "    <tr>\n",
       "      <th>461</th>\n",
       "      <td>2683113224</td>\n",
       "      <td>154576532</td>\n",
       "      <td>2019-08-19</td>\n",
       "      <td>26550</td>\n",
       "      <td>B</td>\n",
       "    </tr>\n",
       "    <tr>\n",
       "      <th>630</th>\n",
       "      <td>1329556473</td>\n",
       "      <td>2626290177</td>\n",
       "      <td>2019-08-20</td>\n",
       "      <td>25890</td>\n",
       "      <td>B</td>\n",
       "    </tr>\n",
       "    <tr>\n",
       "      <th>294</th>\n",
       "      <td>3709669952</td>\n",
       "      <td>3295038680</td>\n",
       "      <td>2019-08-18</td>\n",
       "      <td>23750</td>\n",
       "      <td>A</td>\n",
       "    </tr>\n",
       "    <tr>\n",
       "      <th>368</th>\n",
       "      <td>3268879337</td>\n",
       "      <td>2536252163</td>\n",
       "      <td>2019-08-19</td>\n",
       "      <td>20026</td>\n",
       "      <td>B</td>\n",
       "    </tr>\n",
       "    <tr>\n",
       "      <th>749</th>\n",
       "      <td>2419950278</td>\n",
       "      <td>509080881</td>\n",
       "      <td>2019-08-20</td>\n",
       "      <td>19260</td>\n",
       "      <td>B</td>\n",
       "    </tr>\n",
       "  </tbody>\n",
       "</table>\n",
       "</div>"
      ],
      "text/plain": [
       "     transaction_id  visitor_id       date  revenue group\n",
       "425       590470918  1920142716 2019-08-19  1294500     B\n",
       "530      3970235543  2912540959 2019-08-19    43990     A\n",
       "751       348143148   689129267 2019-08-20    37150     B\n",
       "527      1570513684  2837914161 2019-08-19    33405     B\n",
       "421      3765974140  1357170471 2019-08-19    31680     A\n",
       "461      2683113224   154576532 2019-08-19    26550     B\n",
       "630      1329556473  2626290177 2019-08-20    25890     B\n",
       "294      3709669952  3295038680 2019-08-18    23750     A\n",
       "368      3268879337  2536252163 2019-08-19    20026     B\n",
       "749      2419950278   509080881 2019-08-20    19260     B"
      ]
     },
     "execution_count": 54,
     "metadata": {},
     "output_type": "execute_result"
    }
   ],
   "source": [
    "orders.query(' \"2019-08-17\" < date < \"2019-08-21\" ').sort_values(by='revenue', ascending=False).head(10)"
   ]
  },
  {
   "cell_type": "markdown",
   "metadata": {},
   "source": [
    "**Вывод:** за время проведения теста, мы наблюдаем повышение значений \"В\"-группы, особенно резкий скачок наблюдаем после 17 авг., после ручной проверки, мы увидели, что в группе \"В\" был сделан самый дорогой заказ на 1 294 500, возможно, заказ был выполнен юр.лицом. В целом, стоит отметить, увеличение выручки в тестируемой группе."
   ]
  },
  {
   "cell_type": "markdown",
   "metadata": {},
   "source": [
    "### График кумулятивного среднего чека по группам."
   ]
  },
  {
   "cell_type": "code",
   "execution_count": 55,
   "metadata": {},
   "outputs": [
    {
     "data": {
      "image/png": "[encoded data removed]",
      "text/plain": [
       "<Figure size 864x360 with 1 Axes>"
      ]
     },
     "metadata": {
      "needs_background": "light"
     },
     "output_type": "display_data"
    }
   ],
   "source": [
    "plt.figure(figsize=(12,5))\n",
    "plt.plot(cumulative_revenue_A['date'], cumulative_revenue_A['revenue']/cumulative_revenue_A['orders'],\n",
    "         label='средний кумулятивный чек группы A')\n",
    "plt.plot(cumulative_revenue_B['date'], cumulative_revenue_B['revenue']/cumulative_revenue_B['orders'],\n",
    "         label='средний кумулятивный чек группы B')\n",
    "plt.title('График кумулятивного среднего чека по группам')\n",
    "plt.xlabel('Даты')\n",
    "plt.ylabel('Средний чек')\n",
    "plt.legend()\n",
    "plt.grid();"
   ]
  },
  {
   "cell_type": "code",
   "execution_count": 56,
   "metadata": {},
   "outputs": [
    {
     "data": {
      "image/png": "[encoded data removed]",
      "text/plain": [
       "<Figure size 864x360 with 1 Axes>"
      ]
     },
     "metadata": {
      "needs_background": "light"
     },
     "output_type": "display_data"
    }
   ],
   "source": [
    "plt.figure(figsize=(12,5))\n",
    "plt.plot(cum_rev_A['date'], cum_rev_A['revenue']/cum_rev_A['orders'],\n",
    "         label='средний кумулятивный чек группы A')\n",
    "plt.plot(cum_rev_B['date'], cum_rev_B['revenue']/cum_rev_B['orders'],\n",
    "         label='средний кумулятивный чек группы B')\n",
    "plt.title('График кумулятивного среднего чека по группам без выбросов')\n",
    "plt.xlabel('Даты')\n",
    "plt.ylabel('Средний чек')\n",
    "plt.legend()\n",
    "plt.grid();"
   ]
  },
  {
   "cell_type": "markdown",
   "metadata": {},
   "source": [
    "**Вывод:** накопление кумулятивного чека не так однозначно, наблюдается картина повышения, а так же спада тестируемой группы, в контрольной группе рост начинается с просадки значений, далее значения колеблются на уровне. Группа \"В\" на этом графике так же показывает резкий рост после 17 авг., как мы помним, выстреливает заказ с максимальной выручкой."
   ]
  },
  {
   "cell_type": "markdown",
   "metadata": {},
   "source": [
    "### График относительного изменения кумулятивного среднего чека группы B к группе A."
   ]
  },
  {
   "cell_type": "code",
   "execution_count": 57,
   "metadata": {},
   "outputs": [
    {
     "data": {
      "image/png": "[encoded data removed]",
      "text/plain": [
       "<Figure size 864x360 with 1 Axes>"
      ]
     },
     "metadata": {
      "needs_background": "light"
     },
     "output_type": "display_data"
    }
   ],
   "source": [
    "merged_сumulative_revenue = cumulative_revenue_A.merge(cumulative_revenue_B,\n",
    "                                                       left_on='date', right_on='date', how='left', suffixes=['A', 'B'])\n",
    "\n",
    "plt.figure(figsize=(12,5))\n",
    "plt.plot(merged_сumulative_revenue['date'], (merged_сumulative_revenue['revenueB']/merged_сumulative_revenue['ordersB'])/ \\\n",
    "         (merged_сumulative_revenue['revenueA']/merged_сumulative_revenue['ordersA'])-1)\n",
    "plt.title('Относительное изменение кумулятивного среднего чека групп \"B\" к \"А\"')\n",
    "plt.axhline(y=0, color='black', linestyle='--')\n",
    "plt.axhline(y=0.5, color='grey', linestyle='--')\n",
    "plt.xlabel('Даты')\n",
    "plt.ylabel('Относительное изменение среднего чека')\n",
    "plt.grid(); "
   ]
  },
  {
   "cell_type": "markdown",
   "metadata": {},
   "source": [
    "**Вывод:** максимальное увеличение конверсии тестируемой группы доходит до 50%, но и так же имеется спад после роста в начале периода до 30 % спад до -10% к контрольной группе."
   ]
  },
  {
   "cell_type": "markdown",
   "metadata": {},
   "source": [
    "### График  кумулятивного среднего количества заказов на посетителя по группам."
   ]
  },
  {
   "cell_type": "code",
   "execution_count": 58,
   "metadata": {},
   "outputs": [
    {
     "data": {
      "image/png": "[encoded data removed]",
      "text/plain": [
       "<Figure size 864x360 with 1 Axes>"
      ]
     },
     "metadata": {
      "needs_background": "light"
     },
     "output_type": "display_data"
    }
   ],
   "source": [
    "cumulative_data['avg'] = cumulative_data['orders']/cumulative_data['visitors']\n",
    "\n",
    "cumulative_data_A = cumulative_data[cumulative_data['group']=='A']\n",
    "cumulative_data_B = cumulative_data[cumulative_data['group']=='B']\n",
    "\n",
    "plt.figure(figsize=(12,5))\n",
    "plt.plot(cumulative_data_A['date'], cumulative_data_A['avg'], label='группа A')\n",
    "plt.plot(cumulative_data_B ['date'], cumulative_data_B ['avg'], label='группа B')\n",
    "plt.title('График кумулятивного среднего количества заказов на посетителя по группам')\n",
    "plt.legend()\n",
    "plt.xlabel('Даты')\n",
    "plt.ylabel('Среднее количество заказов')\n",
    "plt.grid();"
   ]
  },
  {
   "cell_type": "markdown",
   "metadata": {},
   "source": [
    "**Вывод:** в контрольной группе всплеск приходится на первые числа августа, далее провал показателей. Группа \"В\", начинает период с всплеска, далее спад, и далее резкий рост. В целом, тестируемая группа показывает лучший показатель конверсии."
   ]
  },
  {
   "cell_type": "markdown",
   "metadata": {},
   "source": [
    "### График относительного изменения кумулятивного среднего количества заказов на посетителя группы B к группе A."
   ]
  },
  {
   "cell_type": "code",
   "execution_count": 59,
   "metadata": {},
   "outputs": [
    {
     "data": {
      "image/png": "[encoded data removed]",
      "text/plain": [
       "<Figure size 864x360 with 1 Axes>"
      ]
     },
     "metadata": {
      "needs_background": "light"
     },
     "output_type": "display_data"
    }
   ],
   "source": [
    "merged_cumulative_avg = (\n",
    "    cumulative_data_A[['date','avg']].merge(cumulative_data_B[['date','avg']], \n",
    "                                        left_on='date', right_on='date', how='left', suffixes=['A', 'B'])\n",
    ")\n",
    "plt.figure(figsize=(12,5))\n",
    "plt.plot(\n",
    "    merged_cumulative_avg['date'],merged_cumulative_avg['avgB']/merged_cumulative_avg['avgA']-1, \n",
    "         label=\"Относительный прирост конверсии группы B относительно группы A\"\n",
    ")\n",
    "plt.title(\n",
    "    'График относительного изменения кумулятивного среднего количества заказов на посетителя группы B к A'\n",
    ")\n",
    "\n",
    "plt.axhline(y=0, color='black', linestyle='--') \n",
    "plt.axhline(y=0.05, color='grey', linestyle='--')\n",
    "plt.axhline(y=0.1, color='green', linestyle='--') \n",
    "plt.xlabel('Даты')\n",
    "plt.ylabel('Относит. изменение среднего количества заказов')\n",
    "plt.grid();"
   ]
  },
  {
   "cell_type": "markdown",
   "metadata": {},
   "source": [
    "**Вывод:** наблюдается схожая картина с графиком 3.4. Спад конверсии в начале периода, а далее рост показателя группы \"В\". Максимальный прирост достигается в середине августа(15-17), далее плавный спад."
   ]
  },
  {
   "cell_type": "markdown",
   "metadata": {},
   "source": [
    "### Точечный график количества заказов по пользователям."
   ]
  },
  {
   "cell_type": "code",
   "execution_count": null,
   "metadata": {},
   "outputs": [],
   "source": [
    "orders_by_users = (\n",
    "    orders.groupby('visitor_id', as_index=False)\n",
    "    .agg({'transaction_id': 'nunique'})\n",
    ")\n",
    "orders_by_users.columns = ['user_id', 'orders']\n",
    "print(orders_by_users.sort_values(by='orders', ascending=False).head(10))"
   ]
  },
  {
   "cell_type": "code",
   "execution_count": null,
   "metadata": {},
   "outputs": [],
   "source": [
    "x_values = pd.Series(range(0, len(orders_by_users)))\n",
    "plt.figure(figsize=(12,5))\n",
    "plt.scatter(x_values, orders_by_users['orders']) \n",
    "plt.title('Точечный график количества заказов по пользователям')\n",
    "plt.xlabel('Пользователи')\n",
    "plt.ylabel('Заказы')\n",
    "plt.grid();"
   ]
  },
  {
   "cell_type": "markdown",
   "metadata": {},
   "source": [
    "**Вывод:** мы наблюдаем, что в основном, пользователи заказывают по одному заказу, реже 2, еще сильно резе 3 заказа на клиента. 4, 5 и более заказов крайне редки."
   ]
  },
  {
   "cell_type": "markdown",
   "metadata": {},
   "source": [
    "### 95-й и 99-й перцентили количества заказов на пользователя."
   ]
  },
  {
   "cell_type": "code",
   "execution_count": null,
   "metadata": {},
   "outputs": [],
   "source": [
    "print(np.percentile(orders_by_users['orders'], [95, 99])) "
   ]
  },
  {
   "cell_type": "code",
   "execution_count": null,
   "metadata": {},
   "outputs": [],
   "source": [
    "print(np.percentile(orders_by_users['orders'], [97, 98]))"
   ]
  },
  {
   "cell_type": "markdown",
   "metadata": {},
   "source": [
    "**Вывод:** заключение из пугкта 3.6 подтверждается. 95-перцентиль ограничивается 2 покупками, граница между 2 и 3 заказом 97-перцентиль. То есть, не более 3% пользователей с 3-мя и более заказами. В дальнейшем ограничим наши данные по заказам до 2-х покупок."
   ]
  },
  {
   "cell_type": "markdown",
   "metadata": {},
   "source": [
    "### Точечный график стоимостей заказов. "
   ]
  },
  {
   "cell_type": "code",
   "execution_count": null,
   "metadata": {},
   "outputs": [],
   "source": [
    "x_values = pd.Series(range(0,len(orders['revenue'])))\n",
    "plt.figure(figsize=(12,5))\n",
    "plt.title('График стоимостей заказов')\n",
    "plt.scatter(x_values, orders['revenue'], alpha=0.5)\n",
    "plt.xlabel('Стоимость заказов')\n",
    "plt.ylabel('Заказы')\n",
    "plt.grid();"
   ]
  },
  {
   "cell_type": "code",
   "execution_count": null,
   "metadata": {},
   "outputs": [],
   "source": [
    "# n_revs = orders[orders['revenue']<=100000]['revenue']\n",
    "# xn_values = pd.Series(range(0,len(n_revs)))\n",
    "# plt.figure(figsize=(12,5))\n",
    "# plt.grid()\n",
    "# plt.title('График стоимостей заказов уточненный')\n",
    "# plt.scatter(xn_values, n_revs, alpha=0.5);"
   ]
  },
  {
   "cell_type": "code",
   "execution_count": null,
   "metadata": {},
   "outputs": [],
   "source": [
    "x_values = pd.Series(range(0, len(orders['revenue'])))\n",
    "plt.figure(figsize=(12, 5))\n",
    "plt.grid()\n",
    "plt.title('График стоимостей заказов')\n",
    "plt.scatter(x_values, orders['revenue'], alpha=0.5)\n",
    "plt.ylim(0, 100000)\n",
    "plt.xlabel('Заказы')\n",
    "plt.ylabel('Стоимость заказов');"
   ]
  },
  {
   "cell_type": "markdown",
   "metadata": {},
   "source": [
    "**Вывод:** на первом графике мы видим, что основная стоимость заказов находится до 100 тыс у.е.. Наблюдается пару выбросов в районе 200 и более 1.2 млн у.е.. После вывода уточненного графика, можно с уверенностью сказать, что основная сумма заказов находится на отметке около 30 тыс у.е.. Все, что более уже можно рассматривать как аномалию."
   ]
  },
  {
   "cell_type": "markdown",
   "metadata": {},
   "source": [
    "### 95-й и 99-й перцентили стоимости заказов."
   ]
  },
  {
   "cell_type": "code",
   "execution_count": null,
   "metadata": {},
   "outputs": [],
   "source": [
    "print(np.percentile(orders['revenue'], [95, 99])) "
   ]
  },
  {
   "cell_type": "code",
   "execution_count": null,
   "metadata": {},
   "outputs": [],
   "source": [
    "print(np.percentile(orders['revenue'], [95, 96, 97, 98, 99])) "
   ]
  },
  {
   "cell_type": "markdown",
   "metadata": {},
   "source": [
    "**Вывод:** изучив перцентили по выручки, можно убедиться, что 95 % заказов достигают отметки 28 тыс у.е., и всего лишь 1% имеет сумму заказов более 58 тыс у.е. В дальнейшем ограничим данные 95% или же 28 тыс у.е.."
   ]
  },
  {
   "cell_type": "markdown",
   "metadata": {},
   "source": [
    "### Статистическая значимость различий в среднем количестве заказов на посетителя между группами по «сырым» данным."
   ]
  },
  {
   "cell_type": "code",
   "execution_count": null,
   "metadata": {},
   "outputs": [],
   "source": [
    "vis_per_date = visitors.groupby(['date','group'], as_index=False).agg({'visitors':'sum'}).sort_values(['date','group'])"
   ]
  },
  {
   "cell_type": "code",
   "execution_count": null,
   "metadata": {},
   "outputs": [],
   "source": [
    "vis_per_date.query('\"2019-08-01\" < =  date < = \"2019-08-03\"') ##смотрю, как себя чувствует табл."
   ]
  },
  {
   "cell_type": "code",
   "execution_count": null,
   "metadata": {},
   "outputs": [],
   "source": [
    "daily = visitors[visitors['group']=='A'][['date', 'visitors']] "
   ]
  },
  {
   "cell_type": "code",
   "execution_count": null,
   "metadata": {},
   "outputs": [],
   "source": [
    "daily.columns = ['date', 'visitors_A'] "
   ]
  },
  {
   "cell_type": "code",
   "execution_count": null,
   "metadata": {},
   "outputs": [],
   "source": [
    "daily.query('\"2019-08-01\" < =  date < = \"2019-08-03\"') ##смотрю, как себя чувствует табл."
   ]
  },
  {
   "cell_type": "code",
   "execution_count": null,
   "metadata": {},
   "outputs": [],
   "source": [
    "daily_b = visitors[visitors['group']=='B'][['date', 'visitors']]"
   ]
  },
  {
   "cell_type": "code",
   "execution_count": null,
   "metadata": {},
   "outputs": [],
   "source": [
    "daily_b.columns = ['date', 'visitors_B'] "
   ]
  },
  {
   "cell_type": "code",
   "execution_count": null,
   "metadata": {},
   "outputs": [],
   "source": [
    "daily_b.query('\"2019-08-01\" < =  date < = \"2019-08-03\"') #смотрю, как себя чувствует табл."
   ]
  },
  {
   "cell_type": "code",
   "execution_count": null,
   "metadata": {},
   "outputs": [],
   "source": [
    "orders_by_users_A = (\n",
    "    orders[orders['group'] == 'A']\n",
    "    .groupby('visitor_id', as_index=False)\n",
    "    .agg({'transaction_id': pd.Series.nunique})\n",
    ")\n",
    "orders_by_users_A.columns = ['user_id', 'orders']\n",
    "\n",
    "orders_by_users_B = (\n",
    "    orders[orders['group'] == 'B']\n",
    "    .groupby('visitor_id', as_index=False)\n",
    "    .agg({'transaction_id': pd.Series.nunique})\n",
    ")\n",
    "orders_by_users_B.columns = ['user_id', 'orders']\n",
    "\n",
    "sample_A = pd.concat(\n",
    "    [\n",
    "        orders_by_users_A['orders'],\n",
    "        pd.Series(\n",
    "            0,\n",
    "            index=np.arange(\n",
    "                daily['visitors_A'].sum() - len(orders_by_users_A['orders'])\n",
    "            ),\n",
    "            name='orders',\n",
    "        ),\n",
    "    ],\n",
    "    axis=0,\n",
    ")\n",
    "\n",
    "sample_B = pd.concat(\n",
    "    [\n",
    "        orders_by_users_B['orders'],\n",
    "        pd.Series(\n",
    "            0,\n",
    "            index=np.arange(\n",
    "                daily_b['visitors_B'].sum() - len(orders_by_users_B['orders'])\n",
    "            ),\n",
    "            name='orders',\n",
    "        ),\n",
    "    ],\n",
    "    axis=0,\n",
    ")"
   ]
  },
  {
   "cell_type": "markdown",
   "metadata": {},
   "source": [
    "Проверим гипотезу, есть ли статистическая значимость различий в среднем количестве заказов на посетителя между группами по «сырым» данным.\n",
    "\n",
    "- **H0:** Cтатистически значимых различий в среднем количестве заказов на посетителя между группами нет.\n",
    "- **H1:** Cтатистически значимые различия в среднем количестве заказов на посетителя между группами есть."
   ]
  },
  {
   "cell_type": "code",
   "execution_count": null,
   "metadata": {},
   "outputs": [],
   "source": [
    "print('alpha =',0.05)\n",
    "print('p-value = {0:.3f}'.format(stats.mannwhitneyu(sample_A, sample_B)[1]))\n",
    "print('Относительный показатель = {0:.3f}'.format(sample_B.mean()/sample_A.mean()-1)) "
   ]
  },
  {
   "cell_type": "markdown",
   "metadata": {},
   "source": [
    "**Вывод:** р-value(0,011) меньше 0.05, нулевую гипотезу отвергаем. Анализ «сырых данных» показывает, что в среднем количестве заказов между группами есть статистически значимые различия. Относительный прирост среднего группы B к конверсии группы A равен 16%."
   ]
  },
  {
   "cell_type": "markdown",
   "metadata": {},
   "source": [
    "### Статистическая значимость различий в среднем чеке заказа между группами по «сырым» данным"
   ]
  },
  {
   "cell_type": "markdown",
   "metadata": {},
   "source": [
    "Проверим гипотезу, есть ли статистическую значимость различий в среднем чеке заказа между группами по «сырым» данным.\n",
    "\n",
    "- **H0:** Cтатистически значимых различий в среднем чеке заказа между группами нет.\n",
    "- **H1:** Cтатистически значимые различия в среднем чеке заказа между группами есть."
   ]
  },
  {
   "cell_type": "code",
   "execution_count": null,
   "metadata": {},
   "outputs": [],
   "source": [
    "print('alpha =',0.05)\n",
    "print('p-value = {0:.3f}'.format(stats.mannwhitneyu(orders[orders['group']=='A']['revenue'],\n",
    "                                                    orders[orders['group']=='B']['revenue'])[1]))\n",
    "print('Относительный показатель = {0:.3f}'.format(orders[orders['group']=='B']['revenue'].mean()/\n",
    "                                                  orders[orders['group']=='A']['revenue'].mean()-1))"
   ]
  },
  {
   "cell_type": "markdown",
   "metadata": {},
   "source": [
    "**Вывод:** по «сырым» данным различий в среднем чеке заказов между группами нет. Р-value = 0.829 (> 0.05), значит, нулевую гипотезу о том, что статистически значимых различий в среднем чеке заказа между группами нет, не отвергаем. Однако относительный показатель группы \"B\" равен 28.7%."
   ]
  },
  {
   "cell_type": "markdown",
   "metadata": {},
   "source": [
    "### Статистическая значимость различий в среднем количестве заказов на посетителя между группами по «очищенным» данным."
   ]
  },
  {
   "cell_type": "code",
   "execution_count": null,
   "metadata": {},
   "outputs": [],
   "source": [
    "min_orders = 2\n",
    "min_revenue = 27000\n",
    "\n",
    "many_orders = pd.concat(\n",
    "    [\n",
    "        orders_by_users_A[orders_by_users_A['orders'] > min_orders]['user_id'],\n",
    "        orders_by_users_B[orders_by_users_B['orders'] > min_orders]['user_id'],\n",
    "    ],\n",
    "    axis=0,\n",
    ")\n",
    "high_expense = orders[orders['revenue'] > min_revenue]['visitor_id']\n",
    "abnormal = (\n",
    "    pd.concat([many_orders, high_expense], axis=0)\n",
    "    .drop_duplicates()\n",
    "    .sort_values()\n",
    ")\n",
    "print(abnormal.head(5))\n",
    "print(abnormal.shape[0])"
   ]
  },
  {
   "cell_type": "markdown",
   "metadata": {},
   "source": [
    "Ограничим данные почти на 6 %. 58 пользователя сделали более 2-х заказов и потратили более 28000 у.е., ранее эти пороги нами были определены как аномалии."
   ]
  },
  {
   "cell_type": "code",
   "execution_count": null,
   "metadata": {},
   "outputs": [],
   "source": [
    "A_filtered = pd.concat(\n",
    "    [\n",
    "        orders_by_users_A[\n",
    "            np.logical_not(orders_by_users_A['user_id'].isin(abnormal))\n",
    "        ]['orders'],\n",
    "        pd.Series(\n",
    "            0,\n",
    "            index=np.arange(\n",
    "                daily['visitors_A'].sum() - len(orders_by_users_A['orders'])\n",
    "            ),\n",
    "            name='orders',\n",
    "        ),\n",
    "    ],\n",
    "    axis=0,\n",
    ")\n",
    "\n",
    "B_filtered = pd.concat(\n",
    "    [\n",
    "        orders_by_users_B[\n",
    "            np.logical_not(orders_by_users_B['user_id'].isin(abnormal))\n",
    "        ]['orders'],\n",
    "        pd.Series(\n",
    "            0,\n",
    "            index=np.arange(\n",
    "                daily_b['visitors_B'].sum() - len( orders_by_users_B['orders'])\n",
    "            ),\n",
    "            name='orders',\n",
    "        ),\n",
    "    ],\n",
    "    axis=0,\n",
    ")\n"
   ]
  },
  {
   "cell_type": "markdown",
   "metadata": {},
   "source": [
    "Проверим, есть ли статистическую значимость различий в среднем количестве заказов на посетителя между группами по «очищенным» данным.\n",
    "\n",
    "- **H0:** Cтатистически значимых различий в среднем количестве заказов на посетителя после очистки данных между группами нет.\n",
    "- **H1:** Cтатистически значимые различия в среднем количестве заказов на посетителя после очистки данных между группами есть."
   ]
  },
  {
   "cell_type": "code",
   "execution_count": null,
   "metadata": {},
   "outputs": [],
   "source": [
    "print('alpha =',0.05)\n",
    "print('p-value = {0:.3f}'.format(stats.mannwhitneyu(A_filtered, B_filtered)[1]))\n",
    "print('Относительный показатель = {0:.3f}'.format(B_filtered.mean()/A_filtered.mean()-1))"
   ]
  },
  {
   "cell_type": "markdown",
   "metadata": {},
   "source": [
    "**Вывод:** по \"очищенным\" данным статистическая значимость достигнута, можем отвергнуть нулевую гипотезу, о том, что различий в среднем количестве заказов на посетителя между группами нет. Тестируемая группа показала прирост на 18.2%(по \"сырым\" данным 16%)"
   ]
  },
  {
   "cell_type": "markdown",
   "metadata": {},
   "source": [
    "### Статистическая значимость различий в среднем чеке заказа между группами по «очищенным» данным."
   ]
  },
  {
   "cell_type": "markdown",
   "metadata": {},
   "source": [
    "Проверим, есть ли статистическая значимость различий в среднем чеке заказа между группами по «очищенным» данным.\n",
    "\n",
    "- **H0:** Cтатистически значимых различий в средних чеках после очистки данных между группами нет.\n",
    "- **H1:** Cтатистически значимые различия в средних чеках после очистки данных между группами есть."
   ]
  },
  {
   "cell_type": "code",
   "execution_count": null,
   "metadata": {},
   "outputs": [],
   "source": [
    "print('alpha =',0.05)\n",
    "\n",
    "print(\n",
    "    'p-value = {0:.3f}'.format(\n",
    "        stats.mannwhitneyu(\n",
    "            orders[\n",
    "                np.logical_and(\n",
    "                    orders['group'] == 'A',\n",
    "                    np.logical_not(orders['visitor_id'].isin(abnormal)),\n",
    "                )\n",
    "            ]['revenue'],\n",
    "            orders[\n",
    "                np.logical_and(\n",
    "                    orders['group'] == 'B',\n",
    "                    np.logical_not(orders['visitor_id'].isin(abnormal)),\n",
    "                )\n",
    "            ]['revenue'],\n",
    "        )[1]\n",
    "    )\n",
    ")\n",
    "\n",
    "print(\n",
    "    'Относительный показатель = {0:.3f}'.format(\n",
    "        orders[\n",
    "            np.logical_and(\n",
    "                orders['group'] == 'B',\n",
    "                np.logical_not(orders['visitor_id'].isin(abnormal)),\n",
    "            )\n",
    "        ]['revenue'].mean()\n",
    "        / orders[\n",
    "            np.logical_and(\n",
    "                orders['group'] == 'A',\n",
    "                np.logical_not(orders['visitor_id'].isin(abnormal)),\n",
    "            )\n",
    "        ]['revenue'].mean()\n",
    "        - 1\n",
    "    )\n",
    ")"
   ]
  },
  {
   "cell_type": "markdown",
   "metadata": {},
   "source": [
    "**Вывод:**  по «очищенным» данным различий в среднем чеке заказов между группами нет. Р-value = 0.646 (> 0.05), значит, нулевую гипотезу о том, что статистически значимых различий в среднем чеке заказа между группами нет, не можем отвергнуть. Однако относительный показатель группы \"B\" равен уже не 28.7%, а -0,05%. Высокая доля вероятности, что именно заказ в более, чем 1.2 млн у.е дал такой шум."
   ]
  },
  {
   "cell_type": "markdown",
   "metadata": {},
   "source": [
    "### Решение по результатам теста."
   ]
  },
  {
   "cell_type": "markdown",
   "metadata": {},
   "source": [
    "**Вывод:**  \n",
    "- есть статистически значимое различие по конверсии между группами как по сырым данным, так и после фильтрации аномалий(до 16%, после 18,2%);\n",
    "- по сырым и фильтрованным данным нет статистически значимого различия по среднему чеку между группами, однако относительные показатели колебались(до 28.7%, после -0,05%);\n",
    "- по графику различия конверсии между группами видно, что результаты группы B лучше группы A: имеют тенденцию к росту.\n",
    "\n",
    "Решение по результатам теста: остановить и признать его успешным."
   ]
  },
  {
   "cell_type": "markdown",
   "metadata": {},
   "source": [
    "## Общий вывод"
   ]
  },
  {
   "cell_type": "markdown",
   "metadata": {},
   "source": [
    "В данном проекте была проделана большая работа по приоритизации гипотез, и дальнейшего тестирования наиболее приоритетной из них.\n",
    "Напомню, что контрольная группа оставалась без изменений, в тестируемой группе  реализовывалась гипотеза №7 \"Добавка формы подписки на все основные страницы, чтобы собрать базу клиентов для email-рассылок\".\n",
    "В тестируемой группе, несмотря на то, что средний чек почти не отличался от контрольной группы, однако конверсия увеличилась почти на  16% по данным без фильтрации, что характеризует группу \"В\" как более эффективную. \n",
    "Несмотря на то, что после очистки данных превышение группы \"В\" по выручке на графике немного превышает контрольную группу, однако в общем, дает результат на 16%(18.2% после исключения аномалий). \n",
    "По среднему чеку, группа \"А\" незначительно опережает тестируемую.\n",
    "Целью нашего проекта было увеличение показателя выручки, по результатам А/В теста, цель была достигнута путем увеличения среднего значения заказов на посетителя.\n",
    "\n",
    "Рекомендую тест прекратить и внедрить для всех пользователей формы подписки на все основные страницы, чтобы собрать базу клиентов для email-рассылок для увеличения основного KPI - выручки."
   ]
  },
  {
   "cell_type": "code",
   "execution_count": null,
   "metadata": {},
   "outputs": [],
   "source": []
  }
 ],
 "metadata": {
  "ExecuteTimeLog": [
   {
    "duration": 1330,
    "start_time": "2023-11-14T17:00:20.982Z"
   },
   {
    "duration": 74,
    "start_time": "2023-11-14T17:01:48.888Z"
   },
   {
    "duration": 13,
    "start_time": "2023-11-14T17:01:49.767Z"
   },
   {
    "duration": 3,
    "start_time": "2023-11-14T17:01:50.654Z"
   },
   {
    "duration": 11,
    "start_time": "2023-11-14T17:01:53.436Z"
   },
   {
    "duration": 84,
    "start_time": "2023-11-14T17:05:53.138Z"
   },
   {
    "duration": 12,
    "start_time": "2023-11-14T17:05:54.208Z"
   },
   {
    "duration": 3,
    "start_time": "2023-11-14T17:05:56.739Z"
   },
   {
    "duration": 5,
    "start_time": "2023-11-14T17:05:57.817Z"
   },
   {
    "duration": 8,
    "start_time": "2023-11-14T17:05:58.500Z"
   },
   {
    "duration": 11,
    "start_time": "2023-11-14T17:06:01.490Z"
   },
   {
    "duration": 69,
    "start_time": "2023-11-14T17:09:07.322Z"
   },
   {
    "duration": 10,
    "start_time": "2023-11-14T17:09:07.980Z"
   },
   {
    "duration": 4,
    "start_time": "2023-11-14T17:09:08.863Z"
   },
   {
    "duration": 10,
    "start_time": "2023-11-14T17:09:09.511Z"
   },
   {
    "duration": 8,
    "start_time": "2023-11-14T17:09:11.834Z"
   },
   {
    "duration": 98,
    "start_time": "2023-11-14T17:13:42.956Z"
   },
   {
    "duration": 94,
    "start_time": "2023-11-14T17:13:57.662Z"
   },
   {
    "duration": 19,
    "start_time": "2023-11-14T17:14:28.096Z"
   },
   {
    "duration": 10,
    "start_time": "2023-11-14T17:14:43.577Z"
   },
   {
    "duration": 5,
    "start_time": "2023-11-14T17:22:43.371Z"
   },
   {
    "duration": 8,
    "start_time": "2023-11-14T17:24:35.593Z"
   },
   {
    "duration": 7,
    "start_time": "2023-11-14T17:24:42.036Z"
   },
   {
    "duration": 4,
    "start_time": "2023-11-14T17:24:56.165Z"
   },
   {
    "duration": 108,
    "start_time": "2023-11-14T17:27:52.645Z"
   },
   {
    "duration": 8,
    "start_time": "2023-11-14T17:27:54.743Z"
   },
   {
    "duration": 10,
    "start_time": "2023-11-14T17:27:55.589Z"
   },
   {
    "duration": 5,
    "start_time": "2023-11-14T17:28:30.858Z"
   },
   {
    "duration": 6,
    "start_time": "2023-11-14T17:28:31.957Z"
   },
   {
    "duration": 1340,
    "start_time": "2023-11-14T20:30:16.699Z"
   },
   {
    "duration": 60,
    "start_time": "2023-11-14T20:30:18.042Z"
   },
   {
    "duration": 13,
    "start_time": "2023-11-14T20:30:18.104Z"
   },
   {
    "duration": 38,
    "start_time": "2023-11-14T20:30:18.118Z"
   },
   {
    "duration": 44,
    "start_time": "2023-11-14T20:30:18.159Z"
   },
   {
    "duration": 109,
    "start_time": "2023-11-14T20:30:18.205Z"
   },
   {
    "duration": 15,
    "start_time": "2023-11-14T20:30:18.317Z"
   },
   {
    "duration": 21,
    "start_time": "2023-11-14T20:30:18.334Z"
   },
   {
    "duration": 27,
    "start_time": "2023-11-14T20:30:18.358Z"
   },
   {
    "duration": 14,
    "start_time": "2023-11-14T20:30:18.387Z"
   },
   {
    "duration": 9,
    "start_time": "2023-11-14T20:30:18.403Z"
   },
   {
    "duration": 53,
    "start_time": "2023-11-14T20:30:18.414Z"
   },
   {
    "duration": 10,
    "start_time": "2023-11-14T20:30:18.469Z"
   },
   {
    "duration": 15,
    "start_time": "2023-11-14T20:30:18.482Z"
   },
   {
    "duration": 28,
    "start_time": "2023-11-14T20:30:18.498Z"
   },
   {
    "duration": 25,
    "start_time": "2023-11-14T20:30:18.527Z"
   },
   {
    "duration": 19,
    "start_time": "2023-11-14T20:30:18.554Z"
   },
   {
    "duration": 19,
    "start_time": "2023-11-14T20:30:18.575Z"
   },
   {
    "duration": 11,
    "start_time": "2023-11-14T20:30:18.596Z"
   },
   {
    "duration": 7,
    "start_time": "2023-11-14T20:30:18.609Z"
   },
   {
    "duration": 15,
    "start_time": "2023-11-14T20:30:18.618Z"
   },
   {
    "duration": 18,
    "start_time": "2023-11-14T20:30:18.634Z"
   },
   {
    "duration": 5,
    "start_time": "2023-11-14T20:30:18.654Z"
   },
   {
    "duration": 28,
    "start_time": "2023-11-14T20:30:18.661Z"
   },
   {
    "duration": 24,
    "start_time": "2023-11-14T20:30:18.691Z"
   },
   {
    "duration": 120,
    "start_time": "2023-11-14T20:30:18.717Z"
   },
   {
    "duration": 0,
    "start_time": "2023-11-14T20:30:18.839Z"
   },
   {
    "duration": 0,
    "start_time": "2023-11-14T20:30:18.840Z"
   },
   {
    "duration": 0,
    "start_time": "2023-11-14T20:30:18.841Z"
   },
   {
    "duration": 0,
    "start_time": "2023-11-14T20:30:18.842Z"
   },
   {
    "duration": 164,
    "start_time": "2023-11-14T20:30:37.497Z"
   },
   {
    "duration": 120,
    "start_time": "2023-11-14T20:30:38.972Z"
   },
   {
    "duration": 13,
    "start_time": "2023-11-14T20:30:39.831Z"
   },
   {
    "duration": 7,
    "start_time": "2023-11-14T20:30:48.010Z"
   },
   {
    "duration": 6,
    "start_time": "2023-11-14T20:30:49.073Z"
   },
   {
    "duration": 320,
    "start_time": "2023-11-14T20:30:50.108Z"
   },
   {
    "duration": 211,
    "start_time": "2023-11-14T20:31:05.352Z"
   },
   {
    "duration": 208,
    "start_time": "2023-11-14T20:33:48.066Z"
   },
   {
    "duration": 212,
    "start_time": "2023-11-14T20:34:39.377Z"
   },
   {
    "duration": 342,
    "start_time": "2023-11-14T20:49:08.384Z"
   },
   {
    "duration": 318,
    "start_time": "2023-11-14T20:49:45.254Z"
   },
   {
    "duration": 16,
    "start_time": "2023-11-14T20:55:39.430Z"
   },
   {
    "duration": 232,
    "start_time": "2023-11-14T20:56:06.336Z"
   },
   {
    "duration": 314,
    "start_time": "2023-11-14T20:57:10.369Z"
   },
   {
    "duration": 1285,
    "start_time": "2023-11-14T20:59:47.025Z"
   },
   {
    "duration": 15,
    "start_time": "2023-11-14T21:00:58.963Z"
   },
   {
    "duration": 1574,
    "start_time": "2023-11-14T21:02:24.680Z"
   },
   {
    "duration": 282,
    "start_time": "2023-11-14T21:03:23.073Z"
   },
   {
    "duration": 341,
    "start_time": "2023-11-14T21:05:17.420Z"
   },
   {
    "duration": 297,
    "start_time": "2023-11-14T21:05:40.190Z"
   },
   {
    "duration": 1503,
    "start_time": "2023-11-15T13:29:22.518Z"
   },
   {
    "duration": 73,
    "start_time": "2023-11-15T13:29:24.024Z"
   },
   {
    "duration": 20,
    "start_time": "2023-11-15T13:29:24.098Z"
   },
   {
    "duration": 4,
    "start_time": "2023-11-15T13:29:24.120Z"
   },
   {
    "duration": 35,
    "start_time": "2023-11-15T13:29:24.127Z"
   },
   {
    "duration": 78,
    "start_time": "2023-11-15T13:29:24.163Z"
   },
   {
    "duration": 10,
    "start_time": "2023-11-15T13:29:24.243Z"
   },
   {
    "duration": 38,
    "start_time": "2023-11-15T13:29:24.255Z"
   },
   {
    "duration": 8,
    "start_time": "2023-11-15T13:29:24.295Z"
   },
   {
    "duration": 20,
    "start_time": "2023-11-15T13:29:24.305Z"
   },
   {
    "duration": 15,
    "start_time": "2023-11-15T13:29:24.327Z"
   },
   {
    "duration": 71,
    "start_time": "2023-11-15T13:29:24.344Z"
   },
   {
    "duration": 10,
    "start_time": "2023-11-15T13:29:24.418Z"
   },
   {
    "duration": 14,
    "start_time": "2023-11-15T13:29:24.430Z"
   },
   {
    "duration": 23,
    "start_time": "2023-11-15T13:29:24.445Z"
   },
   {
    "duration": 8,
    "start_time": "2023-11-15T13:29:24.470Z"
   },
   {
    "duration": 13,
    "start_time": "2023-11-15T13:29:24.480Z"
   },
   {
    "duration": 9,
    "start_time": "2023-11-15T13:29:24.495Z"
   },
   {
    "duration": 19,
    "start_time": "2023-11-15T13:29:24.505Z"
   },
   {
    "duration": 12,
    "start_time": "2023-11-15T13:29:24.525Z"
   },
   {
    "duration": 6,
    "start_time": "2023-11-15T13:29:24.539Z"
   },
   {
    "duration": 25,
    "start_time": "2023-11-15T13:29:24.547Z"
   },
   {
    "duration": 17,
    "start_time": "2023-11-15T13:29:24.574Z"
   },
   {
    "duration": 16,
    "start_time": "2023-11-15T13:29:24.592Z"
   },
   {
    "duration": 36,
    "start_time": "2023-11-15T13:29:24.610Z"
   },
   {
    "duration": 198,
    "start_time": "2023-11-15T13:29:24.647Z"
   },
   {
    "duration": 179,
    "start_time": "2023-11-15T13:29:24.847Z"
   },
   {
    "duration": 6,
    "start_time": "2023-11-15T13:29:25.028Z"
   },
   {
    "duration": 32,
    "start_time": "2023-11-15T13:29:25.036Z"
   },
   {
    "duration": 312,
    "start_time": "2023-11-15T13:29:25.070Z"
   },
   {
    "duration": 234,
    "start_time": "2023-11-15T13:29:25.384Z"
   },
   {
    "duration": 317,
    "start_time": "2023-11-15T13:29:25.621Z"
   },
   {
    "duration": 258,
    "start_time": "2023-11-15T13:29:25.939Z"
   },
   {
    "duration": 341,
    "start_time": "2023-11-15T13:29:26.199Z"
   },
   {
    "duration": 249,
    "start_time": "2023-11-15T13:33:12.368Z"
   },
   {
    "duration": 155,
    "start_time": "2023-11-15T13:33:36.158Z"
   },
   {
    "duration": 178,
    "start_time": "2023-11-15T13:36:39.409Z"
   },
   {
    "duration": 123,
    "start_time": "2023-11-15T13:36:50.418Z"
   },
   {
    "duration": 8,
    "start_time": "2023-11-15T13:37:52.480Z"
   },
   {
    "duration": 10,
    "start_time": "2023-11-15T13:38:01.209Z"
   },
   {
    "duration": 14,
    "start_time": "2023-11-15T13:38:54.996Z"
   },
   {
    "duration": 116,
    "start_time": "2023-11-15T13:39:42.159Z"
   },
   {
    "duration": 224,
    "start_time": "2023-11-15T13:40:28.123Z"
   },
   {
    "duration": 198,
    "start_time": "2023-11-15T13:40:41.308Z"
   },
   {
    "duration": 129,
    "start_time": "2023-11-15T13:40:49.558Z"
   },
   {
    "duration": 4,
    "start_time": "2023-11-15T13:42:41.308Z"
   },
   {
    "duration": 3,
    "start_time": "2023-11-15T13:43:41.297Z"
   },
   {
    "duration": 152,
    "start_time": "2023-11-15T13:43:49.709Z"
   },
   {
    "duration": 147,
    "start_time": "2023-11-15T13:44:41.270Z"
   },
   {
    "duration": 13,
    "start_time": "2023-11-15T13:46:06.361Z"
   },
   {
    "duration": 105,
    "start_time": "2023-11-15T13:47:40.869Z"
   },
   {
    "duration": 103,
    "start_time": "2023-11-15T13:48:14.661Z"
   },
   {
    "duration": 102,
    "start_time": "2023-11-15T13:48:29.550Z"
   },
   {
    "duration": 9,
    "start_time": "2023-11-15T13:50:46.291Z"
   },
   {
    "duration": 263,
    "start_time": "2023-11-15T13:52:22.672Z"
   },
   {
    "duration": 25,
    "start_time": "2023-11-15T13:52:33.019Z"
   },
   {
    "duration": 23,
    "start_time": "2023-11-15T13:53:51.601Z"
   },
   {
    "duration": 154,
    "start_time": "2023-11-15T13:58:31.086Z"
   },
   {
    "duration": 155,
    "start_time": "2023-11-15T13:58:47.838Z"
   },
   {
    "duration": 182,
    "start_time": "2023-11-15T13:59:06.995Z"
   },
   {
    "duration": 5,
    "start_time": "2023-11-15T14:02:54.433Z"
   },
   {
    "duration": 14,
    "start_time": "2023-11-15T14:04:06.117Z"
   },
   {
    "duration": 17,
    "start_time": "2023-11-15T14:04:14.994Z"
   },
   {
    "duration": 4,
    "start_time": "2023-11-15T14:04:50.248Z"
   },
   {
    "duration": 14,
    "start_time": "2023-11-15T14:05:06.519Z"
   },
   {
    "duration": 201,
    "start_time": "2023-11-15T14:21:54.863Z"
   },
   {
    "duration": 36,
    "start_time": "2023-11-15T14:24:53.417Z"
   },
   {
    "duration": 39,
    "start_time": "2023-11-15T14:25:13.877Z"
   },
   {
    "duration": 18,
    "start_time": "2023-11-15T14:25:30.807Z"
   },
   {
    "duration": 394,
    "start_time": "2023-11-15T14:32:34.944Z"
   },
   {
    "duration": 174,
    "start_time": "2023-11-15T14:34:01.786Z"
   },
   {
    "duration": 270,
    "start_time": "2023-11-15T14:35:22.415Z"
   },
   {
    "duration": 95,
    "start_time": "2023-11-15T14:36:20.542Z"
   },
   {
    "duration": 114,
    "start_time": "2023-11-15T14:36:22.872Z"
   },
   {
    "duration": 101,
    "start_time": "2023-11-15T14:39:39.934Z"
   },
   {
    "duration": 85,
    "start_time": "2023-11-15T14:40:22.070Z"
   },
   {
    "duration": 234,
    "start_time": "2023-11-15T14:41:23.814Z"
   },
   {
    "duration": 262,
    "start_time": "2023-11-15T14:43:34.215Z"
   },
   {
    "duration": 245,
    "start_time": "2023-11-15T14:44:36.895Z"
   },
   {
    "duration": 243,
    "start_time": "2023-11-15T14:45:14.797Z"
   },
   {
    "duration": 253,
    "start_time": "2023-11-15T14:45:22.226Z"
   },
   {
    "duration": 12,
    "start_time": "2023-11-15T14:46:37.075Z"
   },
   {
    "duration": 4,
    "start_time": "2023-11-15T14:48:10.992Z"
   },
   {
    "duration": 37,
    "start_time": "2023-11-15T14:48:10.998Z"
   },
   {
    "duration": 13,
    "start_time": "2023-11-15T14:48:11.037Z"
   },
   {
    "duration": 5,
    "start_time": "2023-11-15T14:48:11.052Z"
   },
   {
    "duration": 20,
    "start_time": "2023-11-15T14:48:11.058Z"
   },
   {
    "duration": 42,
    "start_time": "2023-11-15T14:48:11.080Z"
   },
   {
    "duration": 14,
    "start_time": "2023-11-15T14:48:11.124Z"
   },
   {
    "duration": 4,
    "start_time": "2023-11-15T14:48:11.140Z"
   },
   {
    "duration": 9,
    "start_time": "2023-11-15T14:48:11.149Z"
   },
   {
    "duration": 29,
    "start_time": "2023-11-15T14:48:11.161Z"
   },
   {
    "duration": 17,
    "start_time": "2023-11-15T14:48:11.191Z"
   },
   {
    "duration": 28,
    "start_time": "2023-11-15T14:48:11.209Z"
   },
   {
    "duration": 11,
    "start_time": "2023-11-15T14:48:11.239Z"
   },
   {
    "duration": 12,
    "start_time": "2023-11-15T14:48:11.252Z"
   },
   {
    "duration": 33,
    "start_time": "2023-11-15T14:48:11.266Z"
   },
   {
    "duration": 15,
    "start_time": "2023-11-15T14:48:11.300Z"
   },
   {
    "duration": 12,
    "start_time": "2023-11-15T14:48:11.319Z"
   },
   {
    "duration": 11,
    "start_time": "2023-11-15T14:48:11.333Z"
   },
   {
    "duration": 16,
    "start_time": "2023-11-15T14:48:11.345Z"
   },
   {
    "duration": 14,
    "start_time": "2023-11-15T14:48:11.362Z"
   },
   {
    "duration": 7,
    "start_time": "2023-11-15T14:48:11.378Z"
   },
   {
    "duration": 13,
    "start_time": "2023-11-15T14:48:11.400Z"
   },
   {
    "duration": 34,
    "start_time": "2023-11-15T14:48:11.414Z"
   },
   {
    "duration": 19,
    "start_time": "2023-11-15T14:48:11.450Z"
   },
   {
    "duration": 41,
    "start_time": "2023-11-15T14:48:11.470Z"
   },
   {
    "duration": 179,
    "start_time": "2023-11-15T14:48:11.513Z"
   },
   {
    "duration": 125,
    "start_time": "2023-11-15T14:48:11.693Z"
   },
   {
    "duration": 8,
    "start_time": "2023-11-15T14:48:11.822Z"
   },
   {
    "duration": 13,
    "start_time": "2023-11-15T14:48:11.831Z"
   },
   {
    "duration": 221,
    "start_time": "2023-11-15T14:48:11.846Z"
   },
   {
    "duration": 310,
    "start_time": "2023-11-15T14:48:12.069Z"
   },
   {
    "duration": 364,
    "start_time": "2023-11-15T14:48:12.380Z"
   },
   {
    "duration": 309,
    "start_time": "2023-11-15T14:48:12.746Z"
   },
   {
    "duration": 344,
    "start_time": "2023-11-15T14:48:13.057Z"
   },
   {
    "duration": 17,
    "start_time": "2023-11-15T14:48:13.404Z"
   },
   {
    "duration": 177,
    "start_time": "2023-11-15T14:48:13.422Z"
   },
   {
    "duration": 7,
    "start_time": "2023-11-15T14:48:13.606Z"
   },
   {
    "duration": 198,
    "start_time": "2023-11-15T14:48:13.615Z"
   },
   {
    "duration": 34,
    "start_time": "2023-11-15T14:48:13.821Z"
   },
   {
    "duration": 185,
    "start_time": "2023-11-15T14:48:13.858Z"
   },
   {
    "duration": 6,
    "start_time": "2023-11-15T14:48:14.045Z"
   },
   {
    "duration": 229,
    "start_time": "2023-11-15T14:48:14.053Z"
   },
   {
    "duration": 30,
    "start_time": "2023-11-15T14:48:14.283Z"
   },
   {
    "duration": 103,
    "start_time": "2023-11-15T14:48:14.315Z"
   },
   {
    "duration": 95,
    "start_time": "2023-11-15T14:48:14.420Z"
   },
   {
    "duration": 224,
    "start_time": "2023-11-15T14:48:14.517Z"
   },
   {
    "duration": 13,
    "start_time": "2023-11-15T14:48:14.743Z"
   },
   {
    "duration": 14,
    "start_time": "2023-11-15T14:49:01.150Z"
   },
   {
    "duration": 235,
    "start_time": "2023-11-15T14:49:17.216Z"
   },
   {
    "duration": 4,
    "start_time": "2023-11-15T14:49:44.379Z"
   },
   {
    "duration": 5,
    "start_time": "2023-11-15T14:50:17.135Z"
   },
   {
    "duration": 3,
    "start_time": "2023-11-15T14:52:35.607Z"
   },
   {
    "duration": 193,
    "start_time": "2023-11-15T14:52:36.126Z"
   },
   {
    "duration": 194,
    "start_time": "2023-11-15T14:52:37.908Z"
   },
   {
    "duration": 5,
    "start_time": "2023-11-15T15:07:31.198Z"
   },
   {
    "duration": 58,
    "start_time": "2023-11-15T15:07:31.206Z"
   },
   {
    "duration": 16,
    "start_time": "2023-11-15T15:07:31.266Z"
   },
   {
    "duration": 27,
    "start_time": "2023-11-15T15:07:31.284Z"
   },
   {
    "duration": 39,
    "start_time": "2023-11-15T15:07:31.315Z"
   },
   {
    "duration": 80,
    "start_time": "2023-11-15T15:07:31.356Z"
   },
   {
    "duration": 10,
    "start_time": "2023-11-15T15:07:31.438Z"
   },
   {
    "duration": 35,
    "start_time": "2023-11-15T15:07:31.450Z"
   },
   {
    "duration": 61,
    "start_time": "2023-11-15T15:07:31.488Z"
   },
   {
    "duration": 68,
    "start_time": "2023-11-15T15:07:31.550Z"
   },
   {
    "duration": 58,
    "start_time": "2023-11-15T15:07:31.620Z"
   },
   {
    "duration": 85,
    "start_time": "2023-11-15T15:07:31.680Z"
   },
   {
    "duration": 34,
    "start_time": "2023-11-15T15:07:31.767Z"
   },
   {
    "duration": 53,
    "start_time": "2023-11-15T15:07:31.804Z"
   },
   {
    "duration": 39,
    "start_time": "2023-11-15T15:07:31.858Z"
   },
   {
    "duration": 31,
    "start_time": "2023-11-15T15:07:31.898Z"
   },
   {
    "duration": 32,
    "start_time": "2023-11-15T15:07:31.930Z"
   },
   {
    "duration": 15,
    "start_time": "2023-11-15T15:07:31.964Z"
   },
   {
    "duration": 26,
    "start_time": "2023-11-15T15:07:31.981Z"
   },
   {
    "duration": 23,
    "start_time": "2023-11-15T15:07:32.009Z"
   },
   {
    "duration": 28,
    "start_time": "2023-11-15T15:07:32.033Z"
   },
   {
    "duration": 25,
    "start_time": "2023-11-15T15:07:32.063Z"
   },
   {
    "duration": 9,
    "start_time": "2023-11-15T15:07:32.090Z"
   },
   {
    "duration": 24,
    "start_time": "2023-11-15T15:07:32.101Z"
   },
   {
    "duration": 20,
    "start_time": "2023-11-15T15:07:32.127Z"
   },
   {
    "duration": 166,
    "start_time": "2023-11-15T15:07:32.149Z"
   },
   {
    "duration": 124,
    "start_time": "2023-11-15T15:07:32.317Z"
   },
   {
    "duration": 7,
    "start_time": "2023-11-15T15:07:32.442Z"
   },
   {
    "duration": 29,
    "start_time": "2023-11-15T15:07:32.451Z"
   },
   {
    "duration": 235,
    "start_time": "2023-11-15T15:07:32.481Z"
   },
   {
    "duration": 208,
    "start_time": "2023-11-15T15:07:32.718Z"
   },
   {
    "duration": 286,
    "start_time": "2023-11-15T15:07:32.927Z"
   },
   {
    "duration": 215,
    "start_time": "2023-11-15T15:07:33.215Z"
   },
   {
    "duration": 388,
    "start_time": "2023-11-15T15:07:33.433Z"
   },
   {
    "duration": 9,
    "start_time": "2023-11-15T15:07:33.823Z"
   },
   {
    "duration": 136,
    "start_time": "2023-11-15T15:07:33.833Z"
   },
   {
    "duration": 4,
    "start_time": "2023-11-15T15:07:33.971Z"
   },
   {
    "duration": 157,
    "start_time": "2023-11-15T15:07:33.976Z"
   },
   {
    "duration": 23,
    "start_time": "2023-11-15T15:07:34.135Z"
   },
   {
    "duration": 174,
    "start_time": "2023-11-15T15:07:34.159Z"
   },
   {
    "duration": 4,
    "start_time": "2023-11-15T15:07:34.336Z"
   },
   {
    "duration": 200,
    "start_time": "2023-11-15T15:07:34.342Z"
   },
   {
    "duration": 22,
    "start_time": "2023-11-15T15:07:34.544Z"
   },
   {
    "duration": 95,
    "start_time": "2023-11-15T15:07:34.567Z"
   },
   {
    "duration": 81,
    "start_time": "2023-11-15T15:07:34.663Z"
   },
   {
    "duration": 2,
    "start_time": "2023-11-15T15:07:34.746Z"
   },
   {
    "duration": 229,
    "start_time": "2023-11-15T15:07:34.750Z"
   },
   {
    "duration": 199,
    "start_time": "2023-11-15T15:07:34.981Z"
   },
   {
    "duration": 20,
    "start_time": "2023-11-15T15:07:35.181Z"
   },
   {
    "duration": 145,
    "start_time": "2023-11-15T15:09:29.602Z"
   },
   {
    "duration": 199,
    "start_time": "2023-11-15T15:09:42.855Z"
   },
   {
    "duration": 20,
    "start_time": "2023-11-15T15:11:17.255Z"
   },
   {
    "duration": 127,
    "start_time": "2023-11-15T15:11:20.621Z"
   },
   {
    "duration": 200,
    "start_time": "2023-11-15T15:11:21.152Z"
   },
   {
    "duration": 191,
    "start_time": "2023-11-15T15:12:29.744Z"
   },
   {
    "duration": 23,
    "start_time": "2023-11-15T15:12:30.714Z"
   },
   {
    "duration": 11,
    "start_time": "2023-11-15T15:12:44.995Z"
   },
   {
    "duration": 134,
    "start_time": "2023-11-15T15:13:08.914Z"
   },
   {
    "duration": 192,
    "start_time": "2023-11-15T15:13:09.964Z"
   },
   {
    "duration": 201,
    "start_time": "2023-11-15T15:14:08.574Z"
   },
   {
    "duration": 209,
    "start_time": "2023-11-15T15:14:17.632Z"
   },
   {
    "duration": 162,
    "start_time": "2023-11-15T15:16:48.937Z"
   },
   {
    "duration": 4,
    "start_time": "2023-11-15T15:16:52.515Z"
   },
   {
    "duration": 187,
    "start_time": "2023-11-15T15:17:24.755Z"
   },
   {
    "duration": 41,
    "start_time": "2023-11-15T15:17:43.514Z"
   },
   {
    "duration": 128,
    "start_time": "2023-11-15T15:18:02.875Z"
   },
   {
    "duration": 26,
    "start_time": "2023-11-15T15:18:14.022Z"
   },
   {
    "duration": 24,
    "start_time": "2023-11-15T15:18:48.266Z"
   },
   {
    "duration": 11,
    "start_time": "2023-11-15T15:20:52.768Z"
   },
   {
    "duration": 3,
    "start_time": "2023-11-15T15:22:30.369Z"
   },
   {
    "duration": 2276,
    "start_time": "2023-11-15T15:23:08.788Z"
   },
   {
    "duration": 1279,
    "start_time": "2023-11-15T15:23:43.561Z"
   },
   {
    "duration": 1403,
    "start_time": "2023-11-15T15:24:00.029Z"
   },
   {
    "duration": 1260,
    "start_time": "2023-11-15T15:24:29.550Z"
   },
   {
    "duration": 9,
    "start_time": "2023-11-15T15:25:27.600Z"
   },
   {
    "duration": 30,
    "start_time": "2023-11-15T15:36:45.623Z"
   },
   {
    "duration": 9,
    "start_time": "2023-11-15T15:37:55.460Z"
   },
   {
    "duration": 25,
    "start_time": "2023-11-15T15:41:49.563Z"
   },
   {
    "duration": 15,
    "start_time": "2023-11-15T15:47:55.777Z"
   },
   {
    "duration": 219,
    "start_time": "2023-11-15T17:33:15.159Z"
   },
   {
    "duration": 39,
    "start_time": "2023-11-15T17:34:10.324Z"
   },
   {
    "duration": 131,
    "start_time": "2023-11-15T17:45:39.614Z"
   },
   {
    "duration": 28,
    "start_time": "2023-11-15T17:46:00.083Z"
   },
   {
    "duration": 10,
    "start_time": "2023-11-15T17:46:13.605Z"
   },
   {
    "duration": 10,
    "start_time": "2023-11-15T17:54:23.023Z"
   },
   {
    "duration": 8,
    "start_time": "2023-11-15T17:56:07.464Z"
   },
   {
    "duration": 8,
    "start_time": "2023-11-15T17:57:07.505Z"
   },
   {
    "duration": 25,
    "start_time": "2023-11-15T17:57:08.493Z"
   },
   {
    "duration": 17,
    "start_time": "2023-11-15T17:57:59.715Z"
   },
   {
    "duration": 25,
    "start_time": "2023-11-15T18:00:04.480Z"
   },
   {
    "duration": 10,
    "start_time": "2023-11-15T18:01:08.275Z"
   },
   {
    "duration": 25,
    "start_time": "2023-11-15T18:03:08.228Z"
   },
   {
    "duration": 12,
    "start_time": "2023-11-15T18:03:36.398Z"
   },
   {
    "duration": 22,
    "start_time": "2023-11-15T18:06:03.308Z"
   },
   {
    "duration": 13,
    "start_time": "2023-11-15T18:06:13.928Z"
   },
   {
    "duration": 356,
    "start_time": "2023-11-15T18:45:59.897Z"
   },
   {
    "duration": 308,
    "start_time": "2023-11-15T18:46:09.820Z"
   },
   {
    "duration": 93,
    "start_time": "2023-11-15T19:07:22.373Z"
   },
   {
    "duration": 4,
    "start_time": "2023-11-15T19:07:36.342Z"
   },
   {
    "duration": 5,
    "start_time": "2023-11-15T19:16:33.570Z"
   },
   {
    "duration": 5,
    "start_time": "2023-11-15T19:16:49.031Z"
   },
   {
    "duration": 10,
    "start_time": "2023-11-15T19:41:17.432Z"
   },
   {
    "duration": 26,
    "start_time": "2023-11-15T19:41:18.003Z"
   },
   {
    "duration": 13,
    "start_time": "2023-11-15T20:00:18.336Z"
   },
   {
    "duration": 13,
    "start_time": "2023-11-15T20:03:32.583Z"
   },
   {
    "duration": 12,
    "start_time": "2023-11-15T20:04:10.099Z"
   },
   {
    "duration": 13,
    "start_time": "2023-11-15T21:06:09.913Z"
   },
   {
    "duration": 10,
    "start_time": "2023-11-15T21:06:42.198Z"
   },
   {
    "duration": 10,
    "start_time": "2023-11-15T21:07:07.590Z"
   },
   {
    "duration": 1205,
    "start_time": "2023-11-16T01:44:11.698Z"
   },
   {
    "duration": 59,
    "start_time": "2023-11-16T01:44:12.905Z"
   },
   {
    "duration": 11,
    "start_time": "2023-11-16T01:44:12.966Z"
   },
   {
    "duration": 6,
    "start_time": "2023-11-16T01:44:12.979Z"
   },
   {
    "duration": 13,
    "start_time": "2023-11-16T01:44:12.988Z"
   },
   {
    "duration": 78,
    "start_time": "2023-11-16T01:44:13.003Z"
   },
   {
    "duration": 10,
    "start_time": "2023-11-16T01:44:13.083Z"
   },
   {
    "duration": 9,
    "start_time": "2023-11-16T01:44:13.094Z"
   },
   {
    "duration": 5,
    "start_time": "2023-11-16T01:44:13.105Z"
   },
   {
    "duration": 12,
    "start_time": "2023-11-16T01:44:13.112Z"
   },
   {
    "duration": 32,
    "start_time": "2023-11-16T01:44:13.126Z"
   },
   {
    "duration": 64,
    "start_time": "2023-11-16T01:44:13.160Z"
   },
   {
    "duration": 9,
    "start_time": "2023-11-16T01:44:13.225Z"
   },
   {
    "duration": 6,
    "start_time": "2023-11-16T01:44:13.237Z"
   },
   {
    "duration": 10,
    "start_time": "2023-11-16T01:44:13.244Z"
   },
   {
    "duration": 11,
    "start_time": "2023-11-16T01:44:13.255Z"
   },
   {
    "duration": 12,
    "start_time": "2023-11-16T01:44:13.267Z"
   },
   {
    "duration": 16,
    "start_time": "2023-11-16T01:44:13.280Z"
   },
   {
    "duration": 9,
    "start_time": "2023-11-16T01:44:13.297Z"
   },
   {
    "duration": 6,
    "start_time": "2023-11-16T01:44:13.307Z"
   },
   {
    "duration": 12,
    "start_time": "2023-11-16T01:44:13.315Z"
   },
   {
    "duration": 29,
    "start_time": "2023-11-16T01:44:13.328Z"
   },
   {
    "duration": 5,
    "start_time": "2023-11-16T01:44:13.358Z"
   },
   {
    "duration": 11,
    "start_time": "2023-11-16T01:44:13.365Z"
   },
   {
    "duration": 6,
    "start_time": "2023-11-16T01:44:13.377Z"
   },
   {
    "duration": 173,
    "start_time": "2023-11-16T01:44:13.385Z"
   },
   {
    "duration": 124,
    "start_time": "2023-11-16T01:44:13.560Z"
   },
   {
    "duration": 6,
    "start_time": "2023-11-16T01:44:13.686Z"
   },
   {
    "duration": 7,
    "start_time": "2023-11-16T01:44:13.693Z"
   },
   {
    "duration": 270,
    "start_time": "2023-11-16T01:44:13.701Z"
   },
   {
    "duration": 12,
    "start_time": "2023-11-16T01:44:13.972Z"
   },
   {
    "duration": 190,
    "start_time": "2023-11-16T01:44:13.986Z"
   },
   {
    "duration": 337,
    "start_time": "2023-11-16T01:44:14.177Z"
   },
   {
    "duration": 195,
    "start_time": "2023-11-16T01:44:14.516Z"
   },
   {
    "duration": 278,
    "start_time": "2023-11-16T01:44:14.713Z"
   },
   {
    "duration": 8,
    "start_time": "2023-11-16T01:44:14.993Z"
   },
   {
    "duration": 140,
    "start_time": "2023-11-16T01:44:15.003Z"
   },
   {
    "duration": 7,
    "start_time": "2023-11-16T01:44:15.146Z"
   },
   {
    "duration": 5,
    "start_time": "2023-11-16T01:44:15.155Z"
   },
   {
    "duration": 137,
    "start_time": "2023-11-16T01:44:15.162Z"
   },
   {
    "duration": 142,
    "start_time": "2023-11-16T01:44:15.303Z"
   },
   {
    "duration": 8,
    "start_time": "2023-11-16T01:44:15.447Z"
   },
   {
    "duration": 5,
    "start_time": "2023-11-16T01:44:15.456Z"
   },
   {
    "duration": 261,
    "start_time": "2023-11-16T01:44:15.463Z"
   },
   {
    "duration": 32,
    "start_time": "2023-11-16T01:44:15.726Z"
   },
   {
    "duration": 145,
    "start_time": "2023-11-16T01:44:15.760Z"
   },
   {
    "duration": 25,
    "start_time": "2023-11-16T01:44:15.907Z"
   },
   {
    "duration": 24,
    "start_time": "2023-11-16T01:44:15.934Z"
   },
   {
    "duration": 8,
    "start_time": "2023-11-16T01:44:15.960Z"
   },
   {
    "duration": 14,
    "start_time": "2023-11-16T01:44:15.969Z"
   },
   {
    "duration": 23,
    "start_time": "2023-11-16T01:44:15.985Z"
   },
   {
    "duration": 11,
    "start_time": "2023-11-16T01:44:16.010Z"
   },
   {
    "duration": 67,
    "start_time": "2023-11-16T20:21:34.317Z"
   },
   {
    "duration": 13,
    "start_time": "2023-11-16T20:21:34.691Z"
   },
   {
    "duration": 1488,
    "start_time": "2023-11-16T20:21:38.800Z"
   },
   {
    "duration": 63,
    "start_time": "2023-11-16T20:21:40.571Z"
   },
   {
    "duration": 17,
    "start_time": "2023-11-16T20:21:41.054Z"
   },
   {
    "duration": 3,
    "start_time": "2023-11-16T20:21:42.210Z"
   },
   {
    "duration": 12,
    "start_time": "2023-11-16T20:21:42.598Z"
   },
   {
    "duration": 91,
    "start_time": "2023-11-16T20:21:43.448Z"
   },
   {
    "duration": 11,
    "start_time": "2023-11-16T20:21:43.818Z"
   },
   {
    "duration": 3,
    "start_time": "2023-11-16T20:21:44.310Z"
   },
   {
    "duration": 8,
    "start_time": "2023-11-16T20:21:44.871Z"
   },
   {
    "duration": 9,
    "start_time": "2023-11-16T20:21:45.224Z"
   },
   {
    "duration": 14,
    "start_time": "2023-11-16T20:21:45.802Z"
   },
   {
    "duration": 69,
    "start_time": "2023-11-16T20:21:46.917Z"
   },
   {
    "duration": 20,
    "start_time": "2023-11-16T20:21:47.412Z"
   },
   {
    "duration": 4,
    "start_time": "2023-11-16T20:21:47.942Z"
   },
   {
    "duration": 10,
    "start_time": "2023-11-16T20:21:48.520Z"
   },
   {
    "duration": 12,
    "start_time": "2023-11-16T20:21:49.011Z"
   },
   {
    "duration": 19,
    "start_time": "2023-11-16T20:21:51.072Z"
   },
   {
    "duration": 4,
    "start_time": "2023-11-16T20:21:51.730Z"
   },
   {
    "duration": 6,
    "start_time": "2023-11-16T20:21:52.650Z"
   },
   {
    "duration": 7,
    "start_time": "2023-11-16T20:22:03.783Z"
   },
   {
    "duration": 6,
    "start_time": "2023-11-16T20:24:49.023Z"
   },
   {
    "duration": 6,
    "start_time": "2023-11-16T20:25:04.227Z"
   },
   {
    "duration": 5,
    "start_time": "2023-11-16T20:25:08.702Z"
   },
   {
    "duration": 8,
    "start_time": "2023-11-16T20:26:15.784Z"
   },
   {
    "duration": 85,
    "start_time": "2023-11-16T20:28:57.625Z"
   },
   {
    "duration": 4,
    "start_time": "2023-11-16T20:29:09.793Z"
   },
   {
    "duration": 4,
    "start_time": "2023-11-16T20:29:41.925Z"
   },
   {
    "duration": 4,
    "start_time": "2023-11-16T20:31:12.147Z"
   },
   {
    "duration": 87,
    "start_time": "2023-11-16T20:32:53.359Z"
   },
   {
    "duration": 5,
    "start_time": "2023-11-16T20:34:11.057Z"
   },
   {
    "duration": 5,
    "start_time": "2023-11-16T20:34:14.656Z"
   },
   {
    "duration": 5,
    "start_time": "2023-11-16T20:35:03.858Z"
   },
   {
    "duration": 5,
    "start_time": "2023-11-16T20:35:06.551Z"
   },
   {
    "duration": 81,
    "start_time": "2023-11-16T20:35:53.181Z"
   },
   {
    "duration": 5,
    "start_time": "2023-11-16T20:36:02.634Z"
   },
   {
    "duration": 7,
    "start_time": "2023-11-16T20:37:26.587Z"
   },
   {
    "duration": 4,
    "start_time": "2023-11-16T20:37:51.399Z"
   },
   {
    "duration": 13,
    "start_time": "2023-11-16T20:37:51.830Z"
   },
   {
    "duration": 4,
    "start_time": "2023-11-16T20:37:52.209Z"
   },
   {
    "duration": 5,
    "start_time": "2023-11-16T20:39:29.776Z"
   },
   {
    "duration": 9,
    "start_time": "2023-11-16T20:39:30.733Z"
   },
   {
    "duration": 4,
    "start_time": "2023-11-16T20:39:31.176Z"
   },
   {
    "duration": 4,
    "start_time": "2023-11-16T20:40:28.832Z"
   },
   {
    "duration": 8,
    "start_time": "2023-11-16T20:40:29.277Z"
   },
   {
    "duration": 4,
    "start_time": "2023-11-16T20:40:29.693Z"
   },
   {
    "duration": 4,
    "start_time": "2023-11-16T20:42:04.306Z"
   },
   {
    "duration": 2,
    "start_time": "2023-11-16T20:42:05.158Z"
   },
   {
    "duration": 8,
    "start_time": "2023-11-16T20:42:15.669Z"
   },
   {
    "duration": 3,
    "start_time": "2023-11-16T20:49:35.540Z"
   },
   {
    "duration": 69,
    "start_time": "2023-11-16T20:50:28.132Z"
   },
   {
    "duration": 3,
    "start_time": "2023-11-16T20:52:21.115Z"
   },
   {
    "duration": 4,
    "start_time": "2023-11-16T20:52:34.233Z"
   },
   {
    "duration": 1183,
    "start_time": "2023-11-16T20:57:38.376Z"
   },
   {
    "duration": 28,
    "start_time": "2023-11-16T20:57:39.560Z"
   },
   {
    "duration": 11,
    "start_time": "2023-11-16T20:57:39.590Z"
   },
   {
    "duration": 4,
    "start_time": "2023-11-16T20:57:39.604Z"
   },
   {
    "duration": 12,
    "start_time": "2023-11-16T20:57:39.610Z"
   },
   {
    "duration": 38,
    "start_time": "2023-11-16T20:57:39.624Z"
   },
   {
    "duration": 12,
    "start_time": "2023-11-16T20:57:39.663Z"
   },
   {
    "duration": 4,
    "start_time": "2023-11-16T20:57:39.677Z"
   },
   {
    "duration": 5,
    "start_time": "2023-11-16T20:57:39.683Z"
   },
   {
    "duration": 9,
    "start_time": "2023-11-16T20:57:39.690Z"
   },
   {
    "duration": 12,
    "start_time": "2023-11-16T20:57:39.701Z"
   },
   {
    "duration": 15,
    "start_time": "2023-11-16T20:57:39.715Z"
   },
   {
    "duration": 41,
    "start_time": "2023-11-16T20:57:39.732Z"
   },
   {
    "duration": 3,
    "start_time": "2023-11-16T20:57:39.775Z"
   },
   {
    "duration": 18,
    "start_time": "2023-11-16T20:57:39.780Z"
   },
   {
    "duration": 9,
    "start_time": "2023-11-16T20:57:39.800Z"
   },
   {
    "duration": 13,
    "start_time": "2023-11-16T20:57:39.811Z"
   },
   {
    "duration": 40,
    "start_time": "2023-11-16T20:57:39.825Z"
   },
   {
    "duration": 5,
    "start_time": "2023-11-16T20:57:39.867Z"
   },
   {
    "duration": 5,
    "start_time": "2023-11-16T20:57:39.873Z"
   },
   {
    "duration": 3,
    "start_time": "2023-11-16T20:57:39.880Z"
   },
   {
    "duration": 9,
    "start_time": "2023-11-16T20:57:39.884Z"
   },
   {
    "duration": 2,
    "start_time": "2023-11-16T20:57:39.894Z"
   },
   {
    "duration": 10,
    "start_time": "2023-11-16T20:57:39.898Z"
   },
   {
    "duration": 5,
    "start_time": "2023-11-16T20:57:39.909Z"
   },
   {
    "duration": 6,
    "start_time": "2023-11-16T20:57:39.915Z"
   },
   {
    "duration": 43,
    "start_time": "2023-11-16T20:57:39.922Z"
   },
   {
    "duration": 6,
    "start_time": "2023-11-16T20:57:39.970Z"
   },
   {
    "duration": 9,
    "start_time": "2023-11-16T20:57:39.978Z"
   },
   {
    "duration": 6,
    "start_time": "2023-11-16T20:57:39.989Z"
   },
   {
    "duration": 188,
    "start_time": "2023-11-16T20:57:39.997Z"
   },
   {
    "duration": 130,
    "start_time": "2023-11-16T20:57:40.186Z"
   },
   {
    "duration": 6,
    "start_time": "2023-11-16T20:57:40.318Z"
   },
   {
    "duration": 7,
    "start_time": "2023-11-16T20:57:40.326Z"
   },
   {
    "duration": 314,
    "start_time": "2023-11-16T20:57:40.334Z"
   },
   {
    "duration": 24,
    "start_time": "2023-11-16T20:57:40.650Z"
   },
   {
    "duration": 213,
    "start_time": "2023-11-16T20:57:40.676Z"
   },
   {
    "duration": 295,
    "start_time": "2023-11-16T20:57:40.891Z"
   },
   {
    "duration": 236,
    "start_time": "2023-11-16T20:57:41.189Z"
   },
   {
    "duration": 351,
    "start_time": "2023-11-16T20:57:41.426Z"
   },
   {
    "duration": 9,
    "start_time": "2023-11-16T20:57:41.778Z"
   },
   {
    "duration": 144,
    "start_time": "2023-11-16T20:57:41.789Z"
   },
   {
    "duration": 4,
    "start_time": "2023-11-16T20:57:41.934Z"
   },
   {
    "duration": 5,
    "start_time": "2023-11-16T20:57:41.940Z"
   },
   {
    "duration": 168,
    "start_time": "2023-11-16T20:57:41.946Z"
   },
   {
    "duration": 160,
    "start_time": "2023-11-16T20:57:42.116Z"
   },
   {
    "duration": 4,
    "start_time": "2023-11-16T20:57:42.277Z"
   },
   {
    "duration": 4,
    "start_time": "2023-11-16T20:57:42.282Z"
   },
   {
    "duration": 289,
    "start_time": "2023-11-16T20:57:42.288Z"
   },
   {
    "duration": 27,
    "start_time": "2023-11-16T20:57:42.579Z"
   },
   {
    "duration": 176,
    "start_time": "2023-11-16T20:57:42.607Z"
   },
   {
    "duration": 26,
    "start_time": "2023-11-16T20:57:42.785Z"
   },
   {
    "duration": 11,
    "start_time": "2023-11-16T20:57:42.813Z"
   },
   {
    "duration": 9,
    "start_time": "2023-11-16T20:57:42.825Z"
   },
   {
    "duration": 32,
    "start_time": "2023-11-16T20:57:42.836Z"
   },
   {
    "duration": 25,
    "start_time": "2023-11-16T20:57:42.870Z"
   },
   {
    "duration": 14,
    "start_time": "2023-11-16T20:57:42.897Z"
   },
   {
    "duration": 3,
    "start_time": "2023-11-16T20:58:11.419Z"
   },
   {
    "duration": 2,
    "start_time": "2023-11-16T20:58:26.219Z"
   },
   {
    "duration": 169,
    "start_time": "2023-11-16T21:06:55.256Z"
   },
   {
    "duration": 136,
    "start_time": "2023-11-16T21:07:27.190Z"
   },
   {
    "duration": 138,
    "start_time": "2023-11-16T21:09:19.691Z"
   },
   {
    "duration": 151,
    "start_time": "2023-11-16T21:09:43.631Z"
   },
   {
    "duration": 135,
    "start_time": "2023-11-16T21:10:01.983Z"
   },
   {
    "duration": 148,
    "start_time": "2023-11-16T21:10:08.545Z"
   },
   {
    "duration": 3,
    "start_time": "2023-11-16T21:10:10.355Z"
   },
   {
    "duration": 132,
    "start_time": "2023-11-16T21:10:11.311Z"
   },
   {
    "duration": 139,
    "start_time": "2023-11-16T21:10:40.322Z"
   },
   {
    "duration": 129,
    "start_time": "2023-11-16T21:11:18.207Z"
   },
   {
    "duration": 142,
    "start_time": "2023-11-16T21:12:32.441Z"
   },
   {
    "duration": 151,
    "start_time": "2023-11-16T21:12:51.723Z"
   },
   {
    "duration": 158,
    "start_time": "2023-11-16T21:14:47.335Z"
   },
   {
    "duration": 229,
    "start_time": "2023-11-16T21:14:55.853Z"
   },
   {
    "duration": 2,
    "start_time": "2023-11-16T21:14:56.712Z"
   },
   {
    "duration": 152,
    "start_time": "2023-11-16T21:14:57.923Z"
   },
   {
    "duration": 163,
    "start_time": "2023-11-16T21:16:40.557Z"
   },
   {
    "duration": 154,
    "start_time": "2023-11-16T21:16:52.844Z"
   },
   {
    "duration": 154,
    "start_time": "2023-11-16T21:18:38.478Z"
   },
   {
    "duration": 156,
    "start_time": "2023-11-16T21:18:58.928Z"
   },
   {
    "duration": 155,
    "start_time": "2023-11-16T21:19:52.306Z"
   },
   {
    "duration": 3,
    "start_time": "2023-11-16T21:19:53.645Z"
   },
   {
    "duration": 153,
    "start_time": "2023-11-16T21:19:54.229Z"
   },
   {
    "duration": 315,
    "start_time": "2023-11-16T21:21:12.169Z"
   },
   {
    "duration": 335,
    "start_time": "2023-11-16T21:21:37.447Z"
   },
   {
    "duration": 327,
    "start_time": "2023-11-16T21:22:00.241Z"
   },
   {
    "duration": 320,
    "start_time": "2023-11-16T21:22:28.690Z"
   },
   {
    "duration": 9,
    "start_time": "2023-11-16T21:23:23.369Z"
   },
   {
    "duration": 211,
    "start_time": "2023-11-16T21:23:24.069Z"
   },
   {
    "duration": 4,
    "start_time": "2023-11-16T21:23:26.028Z"
   },
   {
    "duration": 4,
    "start_time": "2023-11-16T21:23:26.228Z"
   },
   {
    "duration": 144,
    "start_time": "2023-11-16T21:23:27.130Z"
   },
   {
    "duration": 3,
    "start_time": "2023-11-16T21:23:27.851Z"
   },
   {
    "duration": 152,
    "start_time": "2023-11-16T21:23:28.297Z"
   },
   {
    "duration": 189,
    "start_time": "2023-11-16T21:24:26.079Z"
   },
   {
    "duration": 1413,
    "start_time": "2023-11-17T11:46:49.489Z"
   },
   {
    "duration": 66,
    "start_time": "2023-11-17T11:46:50.905Z"
   },
   {
    "duration": 12,
    "start_time": "2023-11-17T11:46:50.973Z"
   },
   {
    "duration": 3,
    "start_time": "2023-11-17T11:46:50.987Z"
   },
   {
    "duration": 12,
    "start_time": "2023-11-17T11:46:50.993Z"
   },
   {
    "duration": 83,
    "start_time": "2023-11-17T11:46:51.007Z"
   },
   {
    "duration": 11,
    "start_time": "2023-11-17T11:46:51.092Z"
   },
   {
    "duration": 4,
    "start_time": "2023-11-17T11:46:51.105Z"
   },
   {
    "duration": 10,
    "start_time": "2023-11-17T11:46:51.111Z"
   },
   {
    "duration": 12,
    "start_time": "2023-11-17T11:46:51.122Z"
   },
   {
    "duration": 12,
    "start_time": "2023-11-17T11:46:51.135Z"
   },
   {
    "duration": 55,
    "start_time": "2023-11-17T11:46:51.148Z"
   },
   {
    "duration": 12,
    "start_time": "2023-11-17T11:46:51.205Z"
   },
   {
    "duration": 5,
    "start_time": "2023-11-17T11:46:51.222Z"
   },
   {
    "duration": 17,
    "start_time": "2023-11-17T11:46:51.229Z"
   },
   {
    "duration": 11,
    "start_time": "2023-11-17T11:46:51.248Z"
   },
   {
    "duration": 12,
    "start_time": "2023-11-17T11:46:51.260Z"
   },
   {
    "duration": 41,
    "start_time": "2023-11-17T11:46:51.273Z"
   },
   {
    "duration": 6,
    "start_time": "2023-11-17T11:46:51.316Z"
   },
   {
    "duration": 7,
    "start_time": "2023-11-17T11:46:51.324Z"
   },
   {
    "duration": 9,
    "start_time": "2023-11-17T11:46:51.333Z"
   },
   {
    "duration": 5,
    "start_time": "2023-11-17T11:46:51.343Z"
   },
   {
    "duration": 10,
    "start_time": "2023-11-17T11:46:51.349Z"
   },
   {
    "duration": 10,
    "start_time": "2023-11-17T11:46:51.361Z"
   },
   {
    "duration": 4,
    "start_time": "2023-11-17T11:46:51.373Z"
   },
   {
    "duration": 33,
    "start_time": "2023-11-17T11:46:51.379Z"
   },
   {
    "duration": 16,
    "start_time": "2023-11-17T11:46:51.414Z"
   },
   {
    "duration": 13,
    "start_time": "2023-11-17T11:46:51.432Z"
   },
   {
    "duration": 14,
    "start_time": "2023-11-17T11:46:51.447Z"
   },
   {
    "duration": 7,
    "start_time": "2023-11-17T11:46:51.463Z"
   },
   {
    "duration": 185,
    "start_time": "2023-11-17T11:46:51.472Z"
   },
   {
    "duration": 137,
    "start_time": "2023-11-17T11:46:51.659Z"
   },
   {
    "duration": 6,
    "start_time": "2023-11-17T11:46:51.798Z"
   },
   {
    "duration": 8,
    "start_time": "2023-11-17T11:46:51.811Z"
   },
   {
    "duration": 331,
    "start_time": "2023-11-17T11:46:51.820Z"
   },
   {
    "duration": 14,
    "start_time": "2023-11-17T11:46:52.153Z"
   },
   {
    "duration": 237,
    "start_time": "2023-11-17T11:46:52.169Z"
   },
   {
    "duration": 365,
    "start_time": "2023-11-17T11:46:52.410Z"
   },
   {
    "duration": 234,
    "start_time": "2023-11-17T11:46:52.777Z"
   },
   {
    "duration": 324,
    "start_time": "2023-11-17T11:46:53.013Z"
   },
   {
    "duration": 10,
    "start_time": "2023-11-17T11:46:53.341Z"
   },
   {
    "duration": 150,
    "start_time": "2023-11-17T11:46:53.353Z"
   },
   {
    "duration": 5,
    "start_time": "2023-11-17T11:46:53.511Z"
   },
   {
    "duration": 6,
    "start_time": "2023-11-17T11:46:53.518Z"
   },
   {
    "duration": 191,
    "start_time": "2023-11-17T11:46:53.526Z"
   },
   {
    "duration": 3,
    "start_time": "2023-11-17T11:46:53.719Z"
   },
   {
    "duration": 155,
    "start_time": "2023-11-17T11:46:53.723Z"
   },
   {
    "duration": 5,
    "start_time": "2023-11-17T11:46:53.880Z"
   },
   {
    "duration": 9,
    "start_time": "2023-11-17T11:46:53.886Z"
   },
   {
    "duration": 280,
    "start_time": "2023-11-17T11:46:53.912Z"
   },
   {
    "duration": 31,
    "start_time": "2023-11-17T11:46:54.194Z"
   },
   {
    "duration": 149,
    "start_time": "2023-11-17T11:46:54.227Z"
   },
   {
    "duration": 35,
    "start_time": "2023-11-17T11:46:54.378Z"
   },
   {
    "duration": 11,
    "start_time": "2023-11-17T11:46:54.415Z"
   },
   {
    "duration": 9,
    "start_time": "2023-11-17T11:46:54.428Z"
   },
   {
    "duration": 9,
    "start_time": "2023-11-17T11:46:54.438Z"
   },
   {
    "duration": 27,
    "start_time": "2023-11-17T11:46:54.448Z"
   },
   {
    "duration": 45,
    "start_time": "2023-11-17T11:46:54.476Z"
   },
   {
    "duration": 169,
    "start_time": "2023-11-17T11:47:44.420Z"
   },
   {
    "duration": 3,
    "start_time": "2023-11-17T12:31:38.003Z"
   },
   {
    "duration": 2,
    "start_time": "2023-11-17T12:31:55.571Z"
   },
   {
    "duration": 4,
    "start_time": "2023-11-17T12:32:43.852Z"
   },
   {
    "duration": 15,
    "start_time": "2023-11-17T12:32:44.524Z"
   },
   {
    "duration": 5,
    "start_time": "2023-11-17T12:33:16.735Z"
   },
   {
    "duration": 6,
    "start_time": "2023-11-17T12:34:16.514Z"
   },
   {
    "duration": 5,
    "start_time": "2023-11-17T12:34:17.211Z"
   },
   {
    "duration": 15,
    "start_time": "2023-11-17T12:34:23.403Z"
   },
   {
    "duration": 104,
    "start_time": "2023-11-17T12:35:36.288Z"
   },
   {
    "duration": 4,
    "start_time": "2023-11-17T12:35:38.224Z"
   },
   {
    "duration": 13,
    "start_time": "2023-11-17T12:35:38.783Z"
   },
   {
    "duration": 4,
    "start_time": "2023-11-17T12:35:53.774Z"
   },
   {
    "duration": 11,
    "start_time": "2023-11-17T12:35:54.303Z"
   },
   {
    "duration": 4,
    "start_time": "2023-11-17T12:36:11.428Z"
   },
   {
    "duration": 10,
    "start_time": "2023-11-17T12:36:11.904Z"
   },
   {
    "duration": 4,
    "start_time": "2023-11-17T12:36:19.158Z"
   },
   {
    "duration": 16,
    "start_time": "2023-11-17T12:36:19.775Z"
   },
   {
    "duration": 4,
    "start_time": "2023-11-17T12:36:25.275Z"
   },
   {
    "duration": 4,
    "start_time": "2023-11-17T12:36:27.094Z"
   },
   {
    "duration": 9,
    "start_time": "2023-11-17T12:36:27.484Z"
   },
   {
    "duration": 5,
    "start_time": "2023-11-17T12:37:51.386Z"
   },
   {
    "duration": 17,
    "start_time": "2023-11-17T12:37:52.186Z"
   },
   {
    "duration": 4,
    "start_time": "2023-11-17T12:43:47.048Z"
   },
   {
    "duration": 11,
    "start_time": "2023-11-17T12:43:47.620Z"
   },
   {
    "duration": 5,
    "start_time": "2023-11-17T12:44:51.210Z"
   },
   {
    "duration": 10,
    "start_time": "2023-11-17T12:44:51.769Z"
   },
   {
    "duration": 4,
    "start_time": "2023-11-17T12:44:56.902Z"
   },
   {
    "duration": 11,
    "start_time": "2023-11-17T12:44:57.469Z"
   },
   {
    "duration": 4,
    "start_time": "2023-11-17T12:46:22.292Z"
   },
   {
    "duration": 10,
    "start_time": "2023-11-17T12:46:22.950Z"
   },
   {
    "duration": 4,
    "start_time": "2023-11-17T12:47:04.610Z"
   },
   {
    "duration": 10,
    "start_time": "2023-11-17T12:47:05.421Z"
   },
   {
    "duration": 15,
    "start_time": "2023-11-17T12:47:20.001Z"
   },
   {
    "duration": 4,
    "start_time": "2023-11-17T12:47:36.572Z"
   },
   {
    "duration": 12,
    "start_time": "2023-11-17T12:47:37.233Z"
   },
   {
    "duration": 5,
    "start_time": "2023-11-17T12:49:53.104Z"
   },
   {
    "duration": 10,
    "start_time": "2023-11-17T12:49:53.794Z"
   },
   {
    "duration": 3,
    "start_time": "2023-11-17T12:50:08.435Z"
   },
   {
    "duration": 11,
    "start_time": "2023-11-17T12:50:09.043Z"
   },
   {
    "duration": 6,
    "start_time": "2023-11-17T13:47:37.168Z"
   },
   {
    "duration": 9,
    "start_time": "2023-11-17T13:47:40.370Z"
   },
   {
    "duration": 3,
    "start_time": "2023-11-17T13:48:00.661Z"
   },
   {
    "duration": 11,
    "start_time": "2023-11-17T13:48:01.448Z"
   },
   {
    "duration": 4,
    "start_time": "2023-11-17T13:48:10.403Z"
   },
   {
    "duration": 4,
    "start_time": "2023-11-17T13:48:11.388Z"
   },
   {
    "duration": 7,
    "start_time": "2023-11-17T13:48:12.070Z"
   },
   {
    "duration": 4,
    "start_time": "2023-11-17T13:50:51.712Z"
   },
   {
    "duration": 3,
    "start_time": "2023-11-17T13:50:52.891Z"
   },
   {
    "duration": 6,
    "start_time": "2023-11-17T13:50:53.751Z"
   },
   {
    "duration": 3,
    "start_time": "2023-11-17T13:51:18.631Z"
   },
   {
    "duration": 15,
    "start_time": "2023-11-17T13:51:20.823Z"
   },
   {
    "duration": 3,
    "start_time": "2023-11-17T13:51:32.494Z"
   },
   {
    "duration": 5,
    "start_time": "2023-11-17T13:51:32.942Z"
   },
   {
    "duration": 4,
    "start_time": "2023-11-17T13:51:33.431Z"
   },
   {
    "duration": 8,
    "start_time": "2023-11-17T13:51:34.032Z"
   },
   {
    "duration": 3,
    "start_time": "2023-11-17T13:51:48.702Z"
   },
   {
    "duration": 4,
    "start_time": "2023-11-17T13:51:49.131Z"
   },
   {
    "duration": 4,
    "start_time": "2023-11-17T13:51:49.511Z"
   },
   {
    "duration": 8,
    "start_time": "2023-11-17T13:51:49.923Z"
   },
   {
    "duration": 3,
    "start_time": "2023-11-17T13:52:07.933Z"
   },
   {
    "duration": 6,
    "start_time": "2023-11-17T13:52:08.540Z"
   },
   {
    "duration": 4,
    "start_time": "2023-11-17T13:52:08.902Z"
   },
   {
    "duration": 7,
    "start_time": "2023-11-17T13:52:09.455Z"
   },
   {
    "duration": 3,
    "start_time": "2023-11-17T13:52:17.072Z"
   },
   {
    "duration": 6,
    "start_time": "2023-11-17T13:52:17.331Z"
   },
   {
    "duration": 5,
    "start_time": "2023-11-17T13:52:17.571Z"
   },
   {
    "duration": 8,
    "start_time": "2023-11-17T13:52:17.780Z"
   },
   {
    "duration": 3,
    "start_time": "2023-11-17T13:52:25.710Z"
   },
   {
    "duration": 4,
    "start_time": "2023-11-17T13:52:26.123Z"
   },
   {
    "duration": 5,
    "start_time": "2023-11-17T13:52:26.411Z"
   },
   {
    "duration": 7,
    "start_time": "2023-11-17T13:52:26.863Z"
   },
   {
    "duration": 4,
    "start_time": "2023-11-17T13:53:59.163Z"
   },
   {
    "duration": 5,
    "start_time": "2023-11-17T13:53:59.612Z"
   },
   {
    "duration": 7,
    "start_time": "2023-11-17T13:54:00.355Z"
   },
   {
    "duration": 237,
    "start_time": "2023-11-17T14:02:28.580Z"
   },
   {
    "duration": 230,
    "start_time": "2023-11-17T14:04:50.691Z"
   },
   {
    "duration": 306,
    "start_time": "2023-11-17T14:06:05.240Z"
   },
   {
    "duration": 294,
    "start_time": "2023-11-17T14:06:24.760Z"
   },
   {
    "duration": 239,
    "start_time": "2023-11-17T14:07:05.878Z"
   },
   {
    "duration": 336,
    "start_time": "2023-11-17T14:07:59.272Z"
   },
   {
    "duration": 142,
    "start_time": "2023-11-17T14:09:09.842Z"
   },
   {
    "duration": 120,
    "start_time": "2023-11-17T14:09:41.005Z"
   },
   {
    "duration": 154,
    "start_time": "2023-11-17T14:09:45.003Z"
   },
   {
    "duration": 212,
    "start_time": "2023-11-17T14:10:02.356Z"
   },
   {
    "duration": 163,
    "start_time": "2023-11-17T14:10:11.735Z"
   },
   {
    "duration": 7,
    "start_time": "2023-11-17T14:11:42.042Z"
   },
   {
    "duration": 2,
    "start_time": "2023-11-17T14:11:43.013Z"
   },
   {
    "duration": 14,
    "start_time": "2023-11-17T14:30:50.997Z"
   },
   {
    "duration": 9,
    "start_time": "2023-11-17T14:31:02.087Z"
   },
   {
    "duration": 9,
    "start_time": "2023-11-17T14:31:16.715Z"
   },
   {
    "duration": 114,
    "start_time": "2023-11-17T14:32:30.529Z"
   },
   {
    "duration": 10,
    "start_time": "2023-11-17T14:32:42.217Z"
   },
   {
    "duration": 10,
    "start_time": "2023-11-17T14:32:55.441Z"
   },
   {
    "duration": 5,
    "start_time": "2023-11-17T14:34:29.239Z"
   },
   {
    "duration": 3,
    "start_time": "2023-11-17T14:34:29.727Z"
   },
   {
    "duration": 10,
    "start_time": "2023-11-17T14:34:30.148Z"
   },
   {
    "duration": 5,
    "start_time": "2023-11-17T14:36:10.170Z"
   },
   {
    "duration": 3,
    "start_time": "2023-11-17T14:36:10.679Z"
   },
   {
    "duration": 10,
    "start_time": "2023-11-17T14:36:11.198Z"
   },
   {
    "duration": 223,
    "start_time": "2023-11-17T14:36:51.180Z"
   },
   {
    "duration": 11,
    "start_time": "2023-11-17T14:49:01.551Z"
   },
   {
    "duration": 1750,
    "start_time": "2023-11-17T14:50:08.107Z"
   },
   {
    "duration": 8,
    "start_time": "2023-11-17T14:50:22.875Z"
   },
   {
    "duration": 26,
    "start_time": "2023-11-17T14:52:21.052Z"
   },
   {
    "duration": 26,
    "start_time": "2023-11-17T14:58:57.782Z"
   },
   {
    "duration": 14,
    "start_time": "2023-11-17T14:59:03.750Z"
   },
   {
    "duration": 167,
    "start_time": "2023-11-17T15:01:22.333Z"
   },
   {
    "duration": 231,
    "start_time": "2023-11-17T15:02:06.495Z"
   },
   {
    "duration": 1288,
    "start_time": "2023-11-17T15:02:50.190Z"
   },
   {
    "duration": 1308,
    "start_time": "2023-11-17T15:03:51.264Z"
   },
   {
    "duration": 243,
    "start_time": "2023-11-17T15:06:43.388Z"
   },
   {
    "duration": 1155,
    "start_time": "2023-11-17T15:06:54.363Z"
   },
   {
    "duration": 1318,
    "start_time": "2023-11-17T15:08:41.690Z"
   },
   {
    "duration": 11,
    "start_time": "2023-11-17T15:09:09.975Z"
   },
   {
    "duration": 337,
    "start_time": "2023-11-17T15:09:29.887Z"
   },
   {
    "duration": 13,
    "start_time": "2023-11-17T15:15:08.014Z"
   },
   {
    "duration": 11,
    "start_time": "2023-11-17T15:27:31.080Z"
   },
   {
    "duration": 11,
    "start_time": "2023-11-17T15:27:34.080Z"
   },
   {
    "duration": 8,
    "start_time": "2023-11-17T15:27:36.596Z"
   },
   {
    "duration": 29,
    "start_time": "2023-11-17T15:27:45.689Z"
   },
   {
    "duration": 5,
    "start_time": "2023-11-17T15:28:04.669Z"
   },
   {
    "duration": 11,
    "start_time": "2023-11-17T15:28:05.859Z"
   },
   {
    "duration": 6,
    "start_time": "2023-11-17T15:28:51.730Z"
   },
   {
    "duration": 166,
    "start_time": "2023-11-17T15:28:52.310Z"
   },
   {
    "duration": 127,
    "start_time": "2023-11-17T15:28:54.101Z"
   },
   {
    "duration": 12,
    "start_time": "2023-11-17T15:29:13.537Z"
   },
   {
    "duration": 9,
    "start_time": "2023-11-17T15:29:22.151Z"
   },
   {
    "duration": 1398,
    "start_time": "2023-11-17T17:18:14.508Z"
   },
   {
    "duration": 72,
    "start_time": "2023-11-17T17:18:15.908Z"
   },
   {
    "duration": 18,
    "start_time": "2023-11-17T17:18:15.982Z"
   },
   {
    "duration": 7,
    "start_time": "2023-11-17T17:18:16.003Z"
   },
   {
    "duration": 20,
    "start_time": "2023-11-17T17:18:16.012Z"
   },
   {
    "duration": 74,
    "start_time": "2023-11-17T17:18:16.034Z"
   },
   {
    "duration": 12,
    "start_time": "2023-11-17T17:18:16.110Z"
   },
   {
    "duration": 5,
    "start_time": "2023-11-17T17:18:16.123Z"
   },
   {
    "duration": 8,
    "start_time": "2023-11-17T17:18:16.129Z"
   },
   {
    "duration": 19,
    "start_time": "2023-11-17T17:18:16.139Z"
   },
   {
    "duration": 21,
    "start_time": "2023-11-17T17:18:16.160Z"
   },
   {
    "duration": 58,
    "start_time": "2023-11-17T17:18:16.183Z"
   },
   {
    "duration": 11,
    "start_time": "2023-11-17T17:18:16.243Z"
   },
   {
    "duration": 33,
    "start_time": "2023-11-17T17:18:16.256Z"
   },
   {
    "duration": 28,
    "start_time": "2023-11-17T17:18:16.291Z"
   },
   {
    "duration": 14,
    "start_time": "2023-11-17T17:18:16.321Z"
   },
   {
    "duration": 17,
    "start_time": "2023-11-17T17:18:16.337Z"
   },
   {
    "duration": 33,
    "start_time": "2023-11-17T17:18:16.356Z"
   },
   {
    "duration": 18,
    "start_time": "2023-11-17T17:18:16.391Z"
   },
   {
    "duration": 6,
    "start_time": "2023-11-17T17:18:16.411Z"
   },
   {
    "duration": 18,
    "start_time": "2023-11-17T17:18:16.419Z"
   },
   {
    "duration": 20,
    "start_time": "2023-11-17T17:18:16.438Z"
   },
   {
    "duration": 4,
    "start_time": "2023-11-17T17:18:16.460Z"
   },
   {
    "duration": 22,
    "start_time": "2023-11-17T17:18:16.465Z"
   },
   {
    "duration": 29,
    "start_time": "2023-11-17T17:18:16.488Z"
   },
   {
    "duration": 13,
    "start_time": "2023-11-17T17:18:16.519Z"
   },
   {
    "duration": 9,
    "start_time": "2023-11-17T17:18:16.533Z"
   },
   {
    "duration": 6,
    "start_time": "2023-11-17T17:18:16.547Z"
   },
   {
    "duration": 10,
    "start_time": "2023-11-17T17:18:16.554Z"
   },
   {
    "duration": 23,
    "start_time": "2023-11-17T17:18:16.566Z"
   },
   {
    "duration": 13,
    "start_time": "2023-11-17T17:18:16.590Z"
   },
   {
    "duration": 9,
    "start_time": "2023-11-17T17:18:16.604Z"
   },
   {
    "duration": 17,
    "start_time": "2023-11-17T17:18:16.615Z"
   },
   {
    "duration": 18,
    "start_time": "2023-11-17T17:18:16.634Z"
   },
   {
    "duration": 13,
    "start_time": "2023-11-17T17:18:16.653Z"
   },
   {
    "duration": 10,
    "start_time": "2023-11-17T17:18:16.668Z"
   },
   {
    "duration": 22,
    "start_time": "2023-11-17T17:18:16.679Z"
   },
   {
    "duration": 27,
    "start_time": "2023-11-17T17:18:16.703Z"
   },
   {
    "duration": 7,
    "start_time": "2023-11-17T17:18:16.732Z"
   },
   {
    "duration": 179,
    "start_time": "2023-11-17T17:18:16.741Z"
   },
   {
    "duration": 134,
    "start_time": "2023-11-17T17:18:16.922Z"
   },
   {
    "duration": 8,
    "start_time": "2023-11-17T17:18:17.058Z"
   },
   {
    "duration": 11,
    "start_time": "2023-11-17T17:18:17.067Z"
   },
   {
    "duration": 21,
    "start_time": "2023-11-17T17:18:17.079Z"
   },
   {
    "duration": 392,
    "start_time": "2023-11-17T17:18:17.102Z"
   },
   {
    "duration": 0,
    "start_time": "2023-11-17T17:18:17.500Z"
   },
   {
    "duration": 0,
    "start_time": "2023-11-17T17:18:17.501Z"
   },
   {
    "duration": 0,
    "start_time": "2023-11-17T17:18:17.502Z"
   },
   {
    "duration": 0,
    "start_time": "2023-11-17T17:18:17.503Z"
   },
   {
    "duration": 0,
    "start_time": "2023-11-17T17:18:17.504Z"
   },
   {
    "duration": 0,
    "start_time": "2023-11-17T17:18:17.505Z"
   },
   {
    "duration": 0,
    "start_time": "2023-11-17T17:18:17.506Z"
   },
   {
    "duration": 0,
    "start_time": "2023-11-17T17:18:17.508Z"
   },
   {
    "duration": 0,
    "start_time": "2023-11-17T17:18:17.509Z"
   },
   {
    "duration": 0,
    "start_time": "2023-11-17T17:18:17.510Z"
   },
   {
    "duration": 0,
    "start_time": "2023-11-17T17:18:17.511Z"
   },
   {
    "duration": 0,
    "start_time": "2023-11-17T17:18:17.512Z"
   },
   {
    "duration": 0,
    "start_time": "2023-11-17T17:18:17.513Z"
   },
   {
    "duration": 0,
    "start_time": "2023-11-17T17:18:17.514Z"
   },
   {
    "duration": 0,
    "start_time": "2023-11-17T17:18:17.516Z"
   },
   {
    "duration": 0,
    "start_time": "2023-11-17T17:18:17.516Z"
   },
   {
    "duration": 0,
    "start_time": "2023-11-17T17:18:17.517Z"
   },
   {
    "duration": 0,
    "start_time": "2023-11-17T17:18:17.518Z"
   },
   {
    "duration": 0,
    "start_time": "2023-11-17T17:18:17.519Z"
   },
   {
    "duration": 0,
    "start_time": "2023-11-17T17:18:17.520Z"
   },
   {
    "duration": 0,
    "start_time": "2023-11-17T17:18:17.521Z"
   },
   {
    "duration": 0,
    "start_time": "2023-11-17T17:18:17.523Z"
   },
   {
    "duration": 0,
    "start_time": "2023-11-17T17:18:17.524Z"
   },
   {
    "duration": 0,
    "start_time": "2023-11-17T17:18:17.525Z"
   },
   {
    "duration": 0,
    "start_time": "2023-11-17T17:18:17.526Z"
   },
   {
    "duration": 0,
    "start_time": "2023-11-17T17:18:17.527Z"
   },
   {
    "duration": 0,
    "start_time": "2023-11-17T17:18:17.528Z"
   },
   {
    "duration": 0,
    "start_time": "2023-11-17T17:18:17.529Z"
   },
   {
    "duration": 0,
    "start_time": "2023-11-17T17:18:17.530Z"
   },
   {
    "duration": 0,
    "start_time": "2023-11-17T17:18:17.531Z"
   },
   {
    "duration": 0,
    "start_time": "2023-11-17T17:18:17.532Z"
   },
   {
    "duration": 166,
    "start_time": "2023-11-17T17:19:26.638Z"
   },
   {
    "duration": 120,
    "start_time": "2023-11-17T17:19:27.139Z"
   },
   {
    "duration": 8,
    "start_time": "2023-11-17T17:19:27.758Z"
   },
   {
    "duration": 8,
    "start_time": "2023-11-17T17:19:31.190Z"
   },
   {
    "duration": 7,
    "start_time": "2023-11-17T17:19:32.207Z"
   },
   {
    "duration": 206,
    "start_time": "2023-11-17T17:19:33.221Z"
   },
   {
    "duration": 221,
    "start_time": "2023-11-17T17:19:46.868Z"
   },
   {
    "duration": 13,
    "start_time": "2023-11-17T17:19:52.088Z"
   },
   {
    "duration": 250,
    "start_time": "2023-11-17T17:19:54.868Z"
   },
   {
    "duration": 348,
    "start_time": "2023-11-17T17:19:57.022Z"
   },
   {
    "duration": 243,
    "start_time": "2023-11-17T17:19:59.461Z"
   },
   {
    "duration": 18,
    "start_time": "2023-11-17T17:20:01.741Z"
   },
   {
    "duration": 17,
    "start_time": "2023-11-17T17:20:32.079Z"
   },
   {
    "duration": 19,
    "start_time": "2023-11-17T17:20:41.176Z"
   },
   {
    "duration": 6,
    "start_time": "2023-11-17T17:20:53.680Z"
   },
   {
    "duration": 18,
    "start_time": "2023-11-17T17:21:09.521Z"
   },
   {
    "duration": 399,
    "start_time": "2023-11-17T17:21:56.419Z"
   },
   {
    "duration": 10,
    "start_time": "2023-11-17T17:22:21.042Z"
   },
   {
    "duration": 173,
    "start_time": "2023-11-17T17:22:26.762Z"
   },
   {
    "duration": 5,
    "start_time": "2023-11-17T17:22:44.970Z"
   },
   {
    "duration": 4,
    "start_time": "2023-11-17T17:22:45.592Z"
   },
   {
    "duration": 161,
    "start_time": "2023-11-17T17:22:49.161Z"
   },
   {
    "duration": 167,
    "start_time": "2023-11-17T17:22:52.839Z"
   },
   {
    "duration": 4,
    "start_time": "2023-11-17T17:22:56.191Z"
   },
   {
    "duration": 4,
    "start_time": "2023-11-17T17:22:56.882Z"
   },
   {
    "duration": 16,
    "start_time": "2023-11-17T17:23:34.209Z"
   },
   {
    "duration": 16,
    "start_time": "2023-11-17T17:23:34.691Z"
   },
   {
    "duration": 6,
    "start_time": "2023-11-17T17:23:35.572Z"
   },
   {
    "duration": 4,
    "start_time": "2023-11-17T17:23:36.020Z"
   },
   {
    "duration": 14,
    "start_time": "2023-11-17T17:23:36.501Z"
   },
   {
    "duration": 6,
    "start_time": "2023-11-17T17:23:37.462Z"
   },
   {
    "duration": 4,
    "start_time": "2023-11-17T17:23:39.261Z"
   },
   {
    "duration": 14,
    "start_time": "2023-11-17T17:23:39.712Z"
   },
   {
    "duration": 124,
    "start_time": "2023-11-17T17:23:42.462Z"
   },
   {
    "duration": 30,
    "start_time": "2023-11-17T17:23:46.234Z"
   },
   {
    "duration": 11,
    "start_time": "2023-11-17T17:24:01.739Z"
   },
   {
    "duration": 10,
    "start_time": "2023-11-17T17:24:20.955Z"
   },
   {
    "duration": 13,
    "start_time": "2023-11-17T17:24:30.044Z"
   },
   {
    "duration": 8,
    "start_time": "2023-11-17T17:24:39.531Z"
   },
   {
    "duration": 26,
    "start_time": "2023-11-17T17:24:41.092Z"
   },
   {
    "duration": 14,
    "start_time": "2023-11-17T17:25:21.503Z"
   },
   {
    "duration": 11,
    "start_time": "2023-11-17T18:25:20.310Z"
   },
   {
    "duration": 94,
    "start_time": "2023-11-17T18:33:17.475Z"
   },
   {
    "duration": 89,
    "start_time": "2023-11-17T18:33:27.615Z"
   },
   {
    "duration": 93,
    "start_time": "2023-11-17T18:52:02.940Z"
   },
   {
    "duration": 87,
    "start_time": "2023-11-17T18:52:14.921Z"
   },
   {
    "duration": 37,
    "start_time": "2023-11-17T19:04:30.801Z"
   },
   {
    "duration": 31,
    "start_time": "2023-11-17T19:04:37.742Z"
   },
   {
    "duration": 6,
    "start_time": "2023-11-17T19:06:35.631Z"
   },
   {
    "duration": 4,
    "start_time": "2023-11-17T19:06:55.079Z"
   },
   {
    "duration": 368,
    "start_time": "2023-11-17T19:07:04.072Z"
   },
   {
    "duration": 5,
    "start_time": "2023-11-17T19:07:56.621Z"
   },
   {
    "duration": 386,
    "start_time": "2023-11-17T19:07:57.522Z"
   },
   {
    "duration": 6,
    "start_time": "2023-11-17T19:08:13.221Z"
   },
   {
    "duration": 7,
    "start_time": "2023-11-17T19:08:13.723Z"
   },
   {
    "duration": 13,
    "start_time": "2023-11-17T19:08:31.981Z"
   },
   {
    "duration": 14,
    "start_time": "2023-11-17T19:09:44.081Z"
   },
   {
    "duration": 5,
    "start_time": "2023-11-17T19:10:40.684Z"
   },
   {
    "duration": 10,
    "start_time": "2023-11-17T19:10:56.894Z"
   },
   {
    "duration": 6,
    "start_time": "2023-11-17T19:14:53.135Z"
   },
   {
    "duration": 163,
    "start_time": "2023-11-17T19:15:26.438Z"
   },
   {
    "duration": 128,
    "start_time": "2023-11-17T19:15:49.803Z"
   },
   {
    "duration": 383,
    "start_time": "2023-11-17T19:16:23.847Z"
   },
   {
    "duration": 7,
    "start_time": "2023-11-17T19:16:40.017Z"
   },
   {
    "duration": 7,
    "start_time": "2023-11-17T19:17:38.469Z"
   },
   {
    "duration": 215,
    "start_time": "2023-11-17T19:18:48.216Z"
   },
   {
    "duration": 218,
    "start_time": "2023-11-17T19:19:17.299Z"
   },
   {
    "duration": 6,
    "start_time": "2023-11-17T19:19:46.239Z"
   },
   {
    "duration": 228,
    "start_time": "2023-11-17T19:19:46.911Z"
   },
   {
    "duration": 217,
    "start_time": "2023-11-17T19:19:48.909Z"
   },
   {
    "duration": 145,
    "start_time": "2023-11-17T19:20:09.969Z"
   },
   {
    "duration": 235,
    "start_time": "2023-11-17T19:21:03.479Z"
   },
   {
    "duration": 1176,
    "start_time": "2023-11-17T19:21:15.524Z"
   },
   {
    "duration": 28,
    "start_time": "2023-11-17T19:21:16.702Z"
   },
   {
    "duration": 30,
    "start_time": "2023-11-17T19:21:16.732Z"
   },
   {
    "duration": 21,
    "start_time": "2023-11-17T19:21:16.764Z"
   },
   {
    "duration": 24,
    "start_time": "2023-11-17T19:21:16.786Z"
   },
   {
    "duration": 46,
    "start_time": "2023-11-17T19:21:16.812Z"
   },
   {
    "duration": 11,
    "start_time": "2023-11-17T19:21:16.860Z"
   },
   {
    "duration": 57,
    "start_time": "2023-11-17T19:21:16.872Z"
   },
   {
    "duration": 15,
    "start_time": "2023-11-17T19:21:16.931Z"
   },
   {
    "duration": 47,
    "start_time": "2023-11-17T19:21:16.949Z"
   },
   {
    "duration": 39,
    "start_time": "2023-11-17T19:21:16.998Z"
   },
   {
    "duration": 53,
    "start_time": "2023-11-17T19:21:17.039Z"
   },
   {
    "duration": 15,
    "start_time": "2023-11-17T19:21:17.093Z"
   },
   {
    "duration": 35,
    "start_time": "2023-11-17T19:21:17.110Z"
   },
   {
    "duration": 18,
    "start_time": "2023-11-17T19:21:17.146Z"
   },
   {
    "duration": 21,
    "start_time": "2023-11-17T19:21:17.165Z"
   },
   {
    "duration": 14,
    "start_time": "2023-11-17T19:21:17.188Z"
   },
   {
    "duration": 9,
    "start_time": "2023-11-17T19:21:17.204Z"
   },
   {
    "duration": 29,
    "start_time": "2023-11-17T19:21:17.215Z"
   },
   {
    "duration": 26,
    "start_time": "2023-11-17T19:21:17.246Z"
   },
   {
    "duration": 28,
    "start_time": "2023-11-17T19:21:17.273Z"
   },
   {
    "duration": 147,
    "start_time": "2023-11-17T19:21:17.302Z"
   },
   {
    "duration": 19,
    "start_time": "2023-11-17T19:21:17.450Z"
   },
   {
    "duration": 9,
    "start_time": "2023-11-17T19:21:17.470Z"
   },
   {
    "duration": 16,
    "start_time": "2023-11-17T19:21:17.480Z"
   },
   {
    "duration": 8,
    "start_time": "2023-11-17T19:21:17.497Z"
   },
   {
    "duration": 20,
    "start_time": "2023-11-17T19:21:17.507Z"
   },
   {
    "duration": 20,
    "start_time": "2023-11-17T19:21:17.531Z"
   },
   {
    "duration": 86,
    "start_time": "2023-11-17T19:21:17.553Z"
   },
   {
    "duration": 46,
    "start_time": "2023-11-17T19:21:17.641Z"
   },
   {
    "duration": 54,
    "start_time": "2023-11-17T19:21:17.688Z"
   },
   {
    "duration": 30,
    "start_time": "2023-11-17T19:21:17.743Z"
   },
   {
    "duration": 32,
    "start_time": "2023-11-17T19:21:17.775Z"
   },
   {
    "duration": 85,
    "start_time": "2023-11-17T19:21:17.809Z"
   },
   {
    "duration": 122,
    "start_time": "2023-11-17T19:21:17.895Z"
   },
   {
    "duration": 12,
    "start_time": "2023-11-17T19:21:18.019Z"
   },
   {
    "duration": 15,
    "start_time": "2023-11-17T19:21:18.033Z"
   },
   {
    "duration": 129,
    "start_time": "2023-11-17T19:21:18.050Z"
   },
   {
    "duration": 43,
    "start_time": "2023-11-17T19:21:18.180Z"
   },
   {
    "duration": 16,
    "start_time": "2023-11-17T19:21:18.225Z"
   },
   {
    "duration": 16,
    "start_time": "2023-11-17T19:21:18.243Z"
   },
   {
    "duration": 8,
    "start_time": "2023-11-17T19:21:18.260Z"
   },
   {
    "duration": 200,
    "start_time": "2023-11-17T19:21:18.269Z"
   },
   {
    "duration": 163,
    "start_time": "2023-11-17T19:21:18.471Z"
   },
   {
    "duration": 137,
    "start_time": "2023-11-17T19:21:18.636Z"
   },
   {
    "duration": 141,
    "start_time": "2023-11-17T19:21:18.775Z"
   },
   {
    "duration": 8,
    "start_time": "2023-11-17T19:21:18.917Z"
   },
   {
    "duration": 8,
    "start_time": "2023-11-17T19:21:18.927Z"
   },
   {
    "duration": 11,
    "start_time": "2023-11-17T19:21:18.936Z"
   },
   {
    "duration": 10,
    "start_time": "2023-11-17T19:21:18.948Z"
   },
   {
    "duration": 9,
    "start_time": "2023-11-17T19:21:18.960Z"
   },
   {
    "duration": 324,
    "start_time": "2023-11-17T19:21:18.970Z"
   },
   {
    "duration": 226,
    "start_time": "2023-11-17T19:21:19.300Z"
   },
   {
    "duration": 13,
    "start_time": "2023-11-17T19:21:19.529Z"
   },
   {
    "duration": 258,
    "start_time": "2023-11-17T19:21:19.544Z"
   },
   {
    "duration": 342,
    "start_time": "2023-11-17T19:21:19.804Z"
   },
   {
    "duration": 256,
    "start_time": "2023-11-17T19:21:20.148Z"
   },
   {
    "duration": 330,
    "start_time": "2023-11-17T19:21:20.407Z"
   },
   {
    "duration": 11,
    "start_time": "2023-11-17T19:21:20.739Z"
   },
   {
    "duration": 187,
    "start_time": "2023-11-17T19:21:20.751Z"
   },
   {
    "duration": 5,
    "start_time": "2023-11-17T19:21:20.940Z"
   },
   {
    "duration": 6,
    "start_time": "2023-11-17T19:21:20.947Z"
   },
   {
    "duration": 261,
    "start_time": "2023-11-17T19:21:20.954Z"
   },
   {
    "duration": 5,
    "start_time": "2023-11-17T19:21:21.217Z"
   },
   {
    "duration": 178,
    "start_time": "2023-11-17T19:21:21.223Z"
   },
   {
    "duration": 4,
    "start_time": "2023-11-17T19:21:21.403Z"
   },
   {
    "duration": 13,
    "start_time": "2023-11-17T19:21:21.408Z"
   },
   {
    "duration": 35,
    "start_time": "2023-11-17T19:21:21.423Z"
   },
   {
    "duration": 18,
    "start_time": "2023-11-17T19:21:21.459Z"
   },
   {
    "duration": 16,
    "start_time": "2023-11-17T19:21:21.478Z"
   },
   {
    "duration": 28,
    "start_time": "2023-11-17T19:21:21.496Z"
   },
   {
    "duration": 14,
    "start_time": "2023-11-17T19:21:21.525Z"
   },
   {
    "duration": 14,
    "start_time": "2023-11-17T19:21:21.541Z"
   },
   {
    "duration": 36,
    "start_time": "2023-11-17T19:21:21.557Z"
   },
   {
    "duration": 27,
    "start_time": "2023-11-17T19:21:21.595Z"
   },
   {
    "duration": 6,
    "start_time": "2023-11-17T19:21:21.624Z"
   },
   {
    "duration": 14,
    "start_time": "2023-11-17T19:21:21.631Z"
   },
   {
    "duration": 128,
    "start_time": "2023-11-17T19:21:21.646Z"
   },
   {
    "duration": 31,
    "start_time": "2023-11-17T19:21:21.775Z"
   },
   {
    "duration": 11,
    "start_time": "2023-11-17T19:21:21.808Z"
   },
   {
    "duration": 10,
    "start_time": "2023-11-17T19:21:21.820Z"
   },
   {
    "duration": 13,
    "start_time": "2023-11-17T19:21:21.835Z"
   },
   {
    "duration": 53,
    "start_time": "2023-11-17T19:21:21.849Z"
   },
   {
    "duration": 15,
    "start_time": "2023-11-17T19:21:21.904Z"
   },
   {
    "duration": 171,
    "start_time": "2023-11-17T19:22:43.089Z"
   },
   {
    "duration": 179,
    "start_time": "2023-11-17T19:22:44.521Z"
   },
   {
    "duration": 6,
    "start_time": "2023-11-17T19:22:52.548Z"
   },
   {
    "duration": 6,
    "start_time": "2023-11-17T19:22:55.759Z"
   },
   {
    "duration": 176,
    "start_time": "2023-11-17T19:22:59.452Z"
   },
   {
    "duration": 204,
    "start_time": "2023-11-17T19:23:00.309Z"
   },
   {
    "duration": 7,
    "start_time": "2023-11-17T19:23:18.571Z"
   },
   {
    "duration": 7,
    "start_time": "2023-11-17T19:23:22.290Z"
   },
   {
    "duration": 228,
    "start_time": "2023-11-17T19:23:25.966Z"
   },
   {
    "duration": 236,
    "start_time": "2023-11-17T19:26:11.443Z"
   },
   {
    "duration": 1277,
    "start_time": "2023-11-18T08:33:19.008Z"
   },
   {
    "duration": 69,
    "start_time": "2023-11-18T08:33:20.288Z"
   },
   {
    "duration": 10,
    "start_time": "2023-11-18T08:33:20.359Z"
   },
   {
    "duration": 6,
    "start_time": "2023-11-18T08:33:20.371Z"
   },
   {
    "duration": 11,
    "start_time": "2023-11-18T08:33:20.379Z"
   },
   {
    "duration": 70,
    "start_time": "2023-11-18T08:33:20.392Z"
   },
   {
    "duration": 11,
    "start_time": "2023-11-18T08:33:20.463Z"
   },
   {
    "duration": 5,
    "start_time": "2023-11-18T08:33:20.475Z"
   },
   {
    "duration": 6,
    "start_time": "2023-11-18T08:33:20.482Z"
   },
   {
    "duration": 9,
    "start_time": "2023-11-18T08:33:20.490Z"
   },
   {
    "duration": 11,
    "start_time": "2023-11-18T08:33:20.501Z"
   },
   {
    "duration": 56,
    "start_time": "2023-11-18T08:33:20.515Z"
   },
   {
    "duration": 11,
    "start_time": "2023-11-18T08:33:20.573Z"
   },
   {
    "duration": 13,
    "start_time": "2023-11-18T08:33:20.588Z"
   },
   {
    "duration": 17,
    "start_time": "2023-11-18T08:33:20.603Z"
   },
   {
    "duration": 14,
    "start_time": "2023-11-18T08:33:20.622Z"
   },
   {
    "duration": 17,
    "start_time": "2023-11-18T08:33:20.638Z"
   },
   {
    "duration": 6,
    "start_time": "2023-11-18T08:33:20.657Z"
   },
   {
    "duration": 14,
    "start_time": "2023-11-18T08:33:20.664Z"
   },
   {
    "duration": 5,
    "start_time": "2023-11-18T08:33:20.679Z"
   },
   {
    "duration": 6,
    "start_time": "2023-11-18T08:33:20.685Z"
   },
   {
    "duration": 18,
    "start_time": "2023-11-18T08:33:20.693Z"
   },
   {
    "duration": 3,
    "start_time": "2023-11-18T08:33:20.713Z"
   },
   {
    "duration": 14,
    "start_time": "2023-11-18T08:33:20.717Z"
   },
   {
    "duration": 17,
    "start_time": "2023-11-18T08:33:20.732Z"
   },
   {
    "duration": 7,
    "start_time": "2023-11-18T08:33:20.750Z"
   },
   {
    "duration": 4,
    "start_time": "2023-11-18T08:33:20.759Z"
   },
   {
    "duration": 5,
    "start_time": "2023-11-18T08:33:20.765Z"
   },
   {
    "duration": 6,
    "start_time": "2023-11-18T08:33:20.771Z"
   },
   {
    "duration": 9,
    "start_time": "2023-11-18T08:33:20.778Z"
   },
   {
    "duration": 13,
    "start_time": "2023-11-18T08:33:20.788Z"
   },
   {
    "duration": 7,
    "start_time": "2023-11-18T08:33:20.802Z"
   },
   {
    "duration": 7,
    "start_time": "2023-11-18T08:33:20.810Z"
   },
   {
    "duration": 18,
    "start_time": "2023-11-18T08:33:20.819Z"
   },
   {
    "duration": 9,
    "start_time": "2023-11-18T08:33:20.839Z"
   },
   {
    "duration": 7,
    "start_time": "2023-11-18T08:33:20.849Z"
   },
   {
    "duration": 4,
    "start_time": "2023-11-18T08:33:20.857Z"
   },
   {
    "duration": 14,
    "start_time": "2023-11-18T08:33:20.862Z"
   },
   {
    "duration": 27,
    "start_time": "2023-11-18T08:33:20.878Z"
   },
   {
    "duration": 16,
    "start_time": "2023-11-18T08:33:20.907Z"
   },
   {
    "duration": 6,
    "start_time": "2023-11-18T08:33:20.930Z"
   },
   {
    "duration": 14,
    "start_time": "2023-11-18T08:33:20.937Z"
   },
   {
    "duration": 166,
    "start_time": "2023-11-18T08:33:20.953Z"
   },
   {
    "duration": 166,
    "start_time": "2023-11-18T08:33:21.120Z"
   },
   {
    "duration": 116,
    "start_time": "2023-11-18T08:33:21.288Z"
   },
   {
    "duration": 126,
    "start_time": "2023-11-18T08:33:21.406Z"
   },
   {
    "duration": 8,
    "start_time": "2023-11-18T08:33:21.534Z"
   },
   {
    "duration": 23,
    "start_time": "2023-11-18T08:33:21.544Z"
   },
   {
    "duration": 15,
    "start_time": "2023-11-18T08:33:21.569Z"
   },
   {
    "duration": 26,
    "start_time": "2023-11-18T08:33:21.586Z"
   },
   {
    "duration": 34,
    "start_time": "2023-11-18T08:33:21.613Z"
   },
   {
    "duration": 268,
    "start_time": "2023-11-18T08:33:21.649Z"
   },
   {
    "duration": 212,
    "start_time": "2023-11-18T08:33:21.919Z"
   },
   {
    "duration": 12,
    "start_time": "2023-11-18T08:33:22.132Z"
   },
   {
    "duration": 207,
    "start_time": "2023-11-18T08:33:22.146Z"
   },
   {
    "duration": 209,
    "start_time": "2023-11-18T08:33:22.355Z"
   },
   {
    "duration": 305,
    "start_time": "2023-11-18T08:33:22.565Z"
   },
   {
    "duration": 206,
    "start_time": "2023-11-18T08:33:22.871Z"
   },
   {
    "duration": 272,
    "start_time": "2023-11-18T08:33:23.079Z"
   },
   {
    "duration": 92,
    "start_time": "2023-11-18T08:33:23.353Z"
   },
   {
    "duration": 0,
    "start_time": "2023-11-18T08:33:23.447Z"
   },
   {
    "duration": 0,
    "start_time": "2023-11-18T08:33:23.448Z"
   },
   {
    "duration": 0,
    "start_time": "2023-11-18T08:33:23.449Z"
   },
   {
    "duration": 0,
    "start_time": "2023-11-18T08:33:23.450Z"
   },
   {
    "duration": 0,
    "start_time": "2023-11-18T08:33:23.451Z"
   },
   {
    "duration": 0,
    "start_time": "2023-11-18T08:33:23.452Z"
   },
   {
    "duration": 0,
    "start_time": "2023-11-18T08:33:23.453Z"
   },
   {
    "duration": 0,
    "start_time": "2023-11-18T08:33:23.454Z"
   },
   {
    "duration": 0,
    "start_time": "2023-11-18T08:33:23.455Z"
   },
   {
    "duration": 0,
    "start_time": "2023-11-18T08:33:23.456Z"
   },
   {
    "duration": 0,
    "start_time": "2023-11-18T08:33:23.457Z"
   },
   {
    "duration": 0,
    "start_time": "2023-11-18T08:33:23.458Z"
   },
   {
    "duration": 0,
    "start_time": "2023-11-18T08:33:23.567Z"
   },
   {
    "duration": 0,
    "start_time": "2023-11-18T08:33:23.568Z"
   },
   {
    "duration": 0,
    "start_time": "2023-11-18T08:33:23.569Z"
   },
   {
    "duration": 0,
    "start_time": "2023-11-18T08:33:23.569Z"
   },
   {
    "duration": 0,
    "start_time": "2023-11-18T08:33:23.570Z"
   },
   {
    "duration": 0,
    "start_time": "2023-11-18T08:33:23.571Z"
   },
   {
    "duration": 0,
    "start_time": "2023-11-18T08:33:23.572Z"
   },
   {
    "duration": 0,
    "start_time": "2023-11-18T08:33:23.573Z"
   },
   {
    "duration": 0,
    "start_time": "2023-11-18T08:33:23.574Z"
   },
   {
    "duration": 0,
    "start_time": "2023-11-18T08:33:23.576Z"
   },
   {
    "duration": 0,
    "start_time": "2023-11-18T08:33:23.577Z"
   },
   {
    "duration": 0,
    "start_time": "2023-11-18T08:33:23.577Z"
   },
   {
    "duration": 0,
    "start_time": "2023-11-18T08:33:23.578Z"
   },
   {
    "duration": 0,
    "start_time": "2023-11-18T08:33:23.579Z"
   },
   {
    "duration": 21,
    "start_time": "2023-11-18T08:35:10.983Z"
   },
   {
    "duration": 304,
    "start_time": "2023-11-18T08:36:08.152Z"
   },
   {
    "duration": 9,
    "start_time": "2023-11-18T08:54:23.860Z"
   },
   {
    "duration": 8,
    "start_time": "2023-11-18T08:54:52.794Z"
   },
   {
    "duration": 2,
    "start_time": "2023-11-18T08:55:01.604Z"
   },
   {
    "duration": 9,
    "start_time": "2023-11-18T09:11:03.527Z"
   },
   {
    "duration": 673,
    "start_time": "2023-11-18T09:11:17.284Z"
   },
   {
    "duration": 95,
    "start_time": "2023-11-18T09:11:32.426Z"
   },
   {
    "duration": 646,
    "start_time": "2023-11-18T09:11:49.061Z"
   },
   {
    "duration": 9,
    "start_time": "2023-11-18T09:12:08.999Z"
   },
   {
    "duration": 3,
    "start_time": "2023-11-18T09:12:40.765Z"
   },
   {
    "duration": 9,
    "start_time": "2023-11-18T09:12:41.536Z"
   },
   {
    "duration": 3,
    "start_time": "2023-11-18T09:12:57.420Z"
   },
   {
    "duration": 601,
    "start_time": "2023-11-18T09:13:18.737Z"
   },
   {
    "duration": 1182,
    "start_time": "2023-11-18T09:14:02.590Z"
   },
   {
    "duration": 3,
    "start_time": "2023-11-18T09:14:25.017Z"
   },
   {
    "duration": 1377,
    "start_time": "2023-11-18T09:15:06.020Z"
   },
   {
    "duration": 4,
    "start_time": "2023-11-18T09:15:07.399Z"
   },
   {
    "duration": 3,
    "start_time": "2023-11-18T09:15:22.017Z"
   },
   {
    "duration": 1294,
    "start_time": "2023-11-18T09:15:36.359Z"
   },
   {
    "duration": 167,
    "start_time": "2023-11-18T09:17:00.029Z"
   },
   {
    "duration": 334,
    "start_time": "2023-11-18T09:17:13.630Z"
   },
   {
    "duration": 328,
    "start_time": "2023-11-18T09:17:22.879Z"
   },
   {
    "duration": 127,
    "start_time": "2023-11-18T09:18:58.275Z"
   },
   {
    "duration": 4,
    "start_time": "2023-11-18T09:18:59.231Z"
   },
   {
    "duration": 350,
    "start_time": "2023-11-18T09:19:01.046Z"
   },
   {
    "duration": 1173,
    "start_time": "2023-11-18T09:19:13.274Z"
   },
   {
    "duration": 3,
    "start_time": "2023-11-18T09:19:14.449Z"
   },
   {
    "duration": 339,
    "start_time": "2023-11-18T09:19:14.613Z"
   },
   {
    "duration": 11,
    "start_time": "2023-11-18T09:20:23.225Z"
   },
   {
    "duration": 327,
    "start_time": "2023-11-18T09:23:12.332Z"
   },
   {
    "duration": 3,
    "start_time": "2023-11-18T09:25:44.832Z"
   },
   {
    "duration": 15,
    "start_time": "2023-11-18T09:25:46.266Z"
   },
   {
    "duration": 14,
    "start_time": "2023-11-18T09:25:58.656Z"
   },
   {
    "duration": 8,
    "start_time": "2023-11-18T09:27:17.649Z"
   },
   {
    "duration": 12,
    "start_time": "2023-11-18T09:27:45.837Z"
   },
   {
    "duration": 12,
    "start_time": "2023-11-18T09:29:16.211Z"
   },
   {
    "duration": 4,
    "start_time": "2023-11-18T09:29:33.461Z"
   },
   {
    "duration": 13,
    "start_time": "2023-11-18T09:30:07.390Z"
   },
   {
    "duration": 155,
    "start_time": "2023-11-18T09:30:17.043Z"
   },
   {
    "duration": 12,
    "start_time": "2023-11-18T09:30:21.899Z"
   },
   {
    "duration": 18,
    "start_time": "2023-11-18T09:31:54.209Z"
   },
   {
    "duration": 313,
    "start_time": "2023-11-18T09:35:29.086Z"
   },
   {
    "duration": 211,
    "start_time": "2023-11-18T09:37:42.719Z"
   },
   {
    "duration": 325,
    "start_time": "2023-11-18T09:41:50.651Z"
   },
   {
    "duration": 220,
    "start_time": "2023-11-18T09:42:34.142Z"
   },
   {
    "duration": 105,
    "start_time": "2023-11-18T09:47:16.714Z"
   },
   {
    "duration": 233,
    "start_time": "2023-11-18T09:47:24.224Z"
   },
   {
    "duration": 7,
    "start_time": "2023-11-18T09:49:48.060Z"
   },
   {
    "duration": 26,
    "start_time": "2023-11-18T09:50:09.705Z"
   },
   {
    "duration": 23,
    "start_time": "2023-11-18T09:50:18.906Z"
   },
   {
    "duration": 19,
    "start_time": "2023-11-18T09:50:49.755Z"
   },
   {
    "duration": 19,
    "start_time": "2023-11-18T09:53:16.017Z"
   },
   {
    "duration": 117,
    "start_time": "2023-11-18T09:55:10.278Z"
   },
   {
    "duration": 18,
    "start_time": "2023-11-18T09:56:58.919Z"
   },
   {
    "duration": 19,
    "start_time": "2023-11-18T09:57:03.014Z"
   },
   {
    "duration": 18,
    "start_time": "2023-11-18T09:57:36.060Z"
   },
   {
    "duration": 183,
    "start_time": "2023-11-18T10:03:00.159Z"
   },
   {
    "duration": 310,
    "start_time": "2023-11-18T10:04:06.967Z"
   },
   {
    "duration": 318,
    "start_time": "2023-11-18T10:05:23.027Z"
   },
   {
    "duration": 202,
    "start_time": "2023-11-18T10:07:38.609Z"
   },
   {
    "duration": 206,
    "start_time": "2023-11-18T10:08:09.977Z"
   },
   {
    "duration": 2,
    "start_time": "2023-11-18T10:09:15.152Z"
   },
   {
    "duration": 102,
    "start_time": "2023-11-18T10:11:46.269Z"
   }
  ],
  "kernelspec": {
   "display_name": "Python 3 (ipykernel)",
   "language": "python",
   "name": "python3"
  },
  "language_info": {
   "codemirror_mode": {
    "name": "ipython",
    "version": 3
   },
   "file_extension": ".py",
   "mimetype": "text/x-python",
   "name": "python",
   "nbconvert_exporter": "python",
   "pygments_lexer": "ipython3",
   "version": "3.11.5"
  },
  "toc": {
   "base_numbering": 1,
   "nav_menu": {},
   "number_sections": false,
   "sideBar": true,
   "skip_h1_title": false,
   "title_cell": "Принятие решений в бизнесе",
   "title_sidebar": "Contents",
   "toc_cell": true,
   "toc_position": {
    "height": "695px",
    "left": "47px",
    "top": "111.125px",
    "width": "201px"
   },
   "toc_section_display": true,
   "toc_window_display": true
  }
 },
 "nbformat": 4,
 "nbformat_minor": 2
}
